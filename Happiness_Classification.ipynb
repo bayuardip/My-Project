{
  "nbformat": 4,
  "nbformat_minor": 0,
  "metadata": {
    "colab": {
      "provenance": [],
      "toc_visible": true,
      "authorship_tag": "ABX9TyN+mrPT5GDVzp6mEBEYJSXS",
      "include_colab_link": true
    },
    "kernelspec": {
      "name": "python3",
      "display_name": "Python 3"
    },
    "language_info": {
      "name": "python"
    }
  },
  "cells": [
    {
      "cell_type": "markdown",
      "metadata": {
        "id": "view-in-github",
        "colab_type": "text"
      },
      "source": [
        "<a href=\"https://colab.research.google.com/github/bayuardip/My-Project/blob/master/Happiness_Classification.ipynb\" target=\"_parent\"><img src=\"https://colab.research.google.com/assets/colab-badge.svg\" alt=\"Open In Colab\"/></a>"
      ]
    },
    {
      "cell_type": "markdown",
      "source": [
        "# Importing Libraries"
      ],
      "metadata": {
        "id": "97aCRXASppZT"
      }
    },
    {
      "cell_type": "code",
      "execution_count": 2,
      "metadata": {
        "id": "SVagIlexpiOw"
      },
      "outputs": [],
      "source": [
        "import pandas as pd\n",
        "import numpy as np\n",
        "import matplotlib.pyplot as plt\n",
        "import seaborn as sns"
      ]
    },
    {
      "cell_type": "markdown",
      "source": [
        "# Importing CSV File"
      ],
      "metadata": {
        "id": "rBSL31c8qCQT"
      }
    },
    {
      "cell_type": "code",
      "source": [
        "df = pd.read_csv(\"happydata.csv\")"
      ],
      "metadata": {
        "id": "7QgRnIj-p7na"
      },
      "execution_count": 3,
      "outputs": []
    },
    {
      "cell_type": "code",
      "source": [
        "df.head()"
      ],
      "metadata": {
        "colab": {
          "base_uri": "https://localhost:8080/",
          "height": 206
        },
        "id": "iCLHF5hCqP2F",
        "outputId": "a78e98e3-94f7-4826-e76b-8a50d05a8fd2"
      },
      "execution_count": 4,
      "outputs": [
        {
          "output_type": "execute_result",
          "data": {
            "text/plain": [
              "   infoavail  housecost  schoolquality  policetrust  streetquality  ëvents  \\\n",
              "0          3          3              3            4              2       4   \n",
              "1          3          2              3            5              4       3   \n",
              "2          5          3              3            3              3       5   \n",
              "3          5          4              3            3              3       5   \n",
              "4          5          4              3            3              3       5   \n",
              "\n",
              "   happy  \n",
              "0      0  \n",
              "1      0  \n",
              "2      1  \n",
              "3      0  \n",
              "4      0  "
            ],
            "text/html": [
              "\n",
              "  <div id=\"df-0fc37297-7093-4941-9b18-399012c1111a\" class=\"colab-df-container\">\n",
              "    <div>\n",
              "<style scoped>\n",
              "    .dataframe tbody tr th:only-of-type {\n",
              "        vertical-align: middle;\n",
              "    }\n",
              "\n",
              "    .dataframe tbody tr th {\n",
              "        vertical-align: top;\n",
              "    }\n",
              "\n",
              "    .dataframe thead th {\n",
              "        text-align: right;\n",
              "    }\n",
              "</style>\n",
              "<table border=\"1\" class=\"dataframe\">\n",
              "  <thead>\n",
              "    <tr style=\"text-align: right;\">\n",
              "      <th></th>\n",
              "      <th>infoavail</th>\n",
              "      <th>housecost</th>\n",
              "      <th>schoolquality</th>\n",
              "      <th>policetrust</th>\n",
              "      <th>streetquality</th>\n",
              "      <th>ëvents</th>\n",
              "      <th>happy</th>\n",
              "    </tr>\n",
              "  </thead>\n",
              "  <tbody>\n",
              "    <tr>\n",
              "      <th>0</th>\n",
              "      <td>3</td>\n",
              "      <td>3</td>\n",
              "      <td>3</td>\n",
              "      <td>4</td>\n",
              "      <td>2</td>\n",
              "      <td>4</td>\n",
              "      <td>0</td>\n",
              "    </tr>\n",
              "    <tr>\n",
              "      <th>1</th>\n",
              "      <td>3</td>\n",
              "      <td>2</td>\n",
              "      <td>3</td>\n",
              "      <td>5</td>\n",
              "      <td>4</td>\n",
              "      <td>3</td>\n",
              "      <td>0</td>\n",
              "    </tr>\n",
              "    <tr>\n",
              "      <th>2</th>\n",
              "      <td>5</td>\n",
              "      <td>3</td>\n",
              "      <td>3</td>\n",
              "      <td>3</td>\n",
              "      <td>3</td>\n",
              "      <td>5</td>\n",
              "      <td>1</td>\n",
              "    </tr>\n",
              "    <tr>\n",
              "      <th>3</th>\n",
              "      <td>5</td>\n",
              "      <td>4</td>\n",
              "      <td>3</td>\n",
              "      <td>3</td>\n",
              "      <td>3</td>\n",
              "      <td>5</td>\n",
              "      <td>0</td>\n",
              "    </tr>\n",
              "    <tr>\n",
              "      <th>4</th>\n",
              "      <td>5</td>\n",
              "      <td>4</td>\n",
              "      <td>3</td>\n",
              "      <td>3</td>\n",
              "      <td>3</td>\n",
              "      <td>5</td>\n",
              "      <td>0</td>\n",
              "    </tr>\n",
              "  </tbody>\n",
              "</table>\n",
              "</div>\n",
              "    <div class=\"colab-df-buttons\">\n",
              "\n",
              "  <div class=\"colab-df-container\">\n",
              "    <button class=\"colab-df-convert\" onclick=\"convertToInteractive('df-0fc37297-7093-4941-9b18-399012c1111a')\"\n",
              "            title=\"Convert this dataframe to an interactive table.\"\n",
              "            style=\"display:none;\">\n",
              "\n",
              "  <svg xmlns=\"http://www.w3.org/2000/svg\" height=\"24px\" viewBox=\"0 -960 960 960\">\n",
              "    <path d=\"M120-120v-720h720v720H120Zm60-500h600v-160H180v160Zm220 220h160v-160H400v160Zm0 220h160v-160H400v160ZM180-400h160v-160H180v160Zm440 0h160v-160H620v160ZM180-180h160v-160H180v160Zm440 0h160v-160H620v160Z\"/>\n",
              "  </svg>\n",
              "    </button>\n",
              "\n",
              "  <style>\n",
              "    .colab-df-container {\n",
              "      display:flex;\n",
              "      gap: 12px;\n",
              "    }\n",
              "\n",
              "    .colab-df-convert {\n",
              "      background-color: #E8F0FE;\n",
              "      border: none;\n",
              "      border-radius: 50%;\n",
              "      cursor: pointer;\n",
              "      display: none;\n",
              "      fill: #1967D2;\n",
              "      height: 32px;\n",
              "      padding: 0 0 0 0;\n",
              "      width: 32px;\n",
              "    }\n",
              "\n",
              "    .colab-df-convert:hover {\n",
              "      background-color: #E2EBFA;\n",
              "      box-shadow: 0px 1px 2px rgba(60, 64, 67, 0.3), 0px 1px 3px 1px rgba(60, 64, 67, 0.15);\n",
              "      fill: #174EA6;\n",
              "    }\n",
              "\n",
              "    .colab-df-buttons div {\n",
              "      margin-bottom: 4px;\n",
              "    }\n",
              "\n",
              "    [theme=dark] .colab-df-convert {\n",
              "      background-color: #3B4455;\n",
              "      fill: #D2E3FC;\n",
              "    }\n",
              "\n",
              "    [theme=dark] .colab-df-convert:hover {\n",
              "      background-color: #434B5C;\n",
              "      box-shadow: 0px 1px 3px 1px rgba(0, 0, 0, 0.15);\n",
              "      filter: drop-shadow(0px 1px 2px rgba(0, 0, 0, 0.3));\n",
              "      fill: #FFFFFF;\n",
              "    }\n",
              "  </style>\n",
              "\n",
              "    <script>\n",
              "      const buttonEl =\n",
              "        document.querySelector('#df-0fc37297-7093-4941-9b18-399012c1111a button.colab-df-convert');\n",
              "      buttonEl.style.display =\n",
              "        google.colab.kernel.accessAllowed ? 'block' : 'none';\n",
              "\n",
              "      async function convertToInteractive(key) {\n",
              "        const element = document.querySelector('#df-0fc37297-7093-4941-9b18-399012c1111a');\n",
              "        const dataTable =\n",
              "          await google.colab.kernel.invokeFunction('convertToInteractive',\n",
              "                                                    [key], {});\n",
              "        if (!dataTable) return;\n",
              "\n",
              "        const docLinkHtml = 'Like what you see? Visit the ' +\n",
              "          '<a target=\"_blank\" href=https://colab.research.google.com/notebooks/data_table.ipynb>data table notebook</a>'\n",
              "          + ' to learn more about interactive tables.';\n",
              "        element.innerHTML = '';\n",
              "        dataTable['output_type'] = 'display_data';\n",
              "        await google.colab.output.renderOutput(dataTable, element);\n",
              "        const docLink = document.createElement('div');\n",
              "        docLink.innerHTML = docLinkHtml;\n",
              "        element.appendChild(docLink);\n",
              "      }\n",
              "    </script>\n",
              "  </div>\n",
              "\n",
              "\n",
              "<div id=\"df-dae9488f-9b25-40eb-bb5b-c3fefc713228\">\n",
              "  <button class=\"colab-df-quickchart\" onclick=\"quickchart('df-dae9488f-9b25-40eb-bb5b-c3fefc713228')\"\n",
              "            title=\"Suggest charts\"\n",
              "            style=\"display:none;\">\n",
              "\n",
              "<svg xmlns=\"http://www.w3.org/2000/svg\" height=\"24px\"viewBox=\"0 0 24 24\"\n",
              "     width=\"24px\">\n",
              "    <g>\n",
              "        <path d=\"M19 3H5c-1.1 0-2 .9-2 2v14c0 1.1.9 2 2 2h14c1.1 0 2-.9 2-2V5c0-1.1-.9-2-2-2zM9 17H7v-7h2v7zm4 0h-2V7h2v10zm4 0h-2v-4h2v4z\"/>\n",
              "    </g>\n",
              "</svg>\n",
              "  </button>\n",
              "\n",
              "<style>\n",
              "  .colab-df-quickchart {\n",
              "      --bg-color: #E8F0FE;\n",
              "      --fill-color: #1967D2;\n",
              "      --hover-bg-color: #E2EBFA;\n",
              "      --hover-fill-color: #174EA6;\n",
              "      --disabled-fill-color: #AAA;\n",
              "      --disabled-bg-color: #DDD;\n",
              "  }\n",
              "\n",
              "  [theme=dark] .colab-df-quickchart {\n",
              "      --bg-color: #3B4455;\n",
              "      --fill-color: #D2E3FC;\n",
              "      --hover-bg-color: #434B5C;\n",
              "      --hover-fill-color: #FFFFFF;\n",
              "      --disabled-bg-color: #3B4455;\n",
              "      --disabled-fill-color: #666;\n",
              "  }\n",
              "\n",
              "  .colab-df-quickchart {\n",
              "    background-color: var(--bg-color);\n",
              "    border: none;\n",
              "    border-radius: 50%;\n",
              "    cursor: pointer;\n",
              "    display: none;\n",
              "    fill: var(--fill-color);\n",
              "    height: 32px;\n",
              "    padding: 0;\n",
              "    width: 32px;\n",
              "  }\n",
              "\n",
              "  .colab-df-quickchart:hover {\n",
              "    background-color: var(--hover-bg-color);\n",
              "    box-shadow: 0 1px 2px rgba(60, 64, 67, 0.3), 0 1px 3px 1px rgba(60, 64, 67, 0.15);\n",
              "    fill: var(--button-hover-fill-color);\n",
              "  }\n",
              "\n",
              "  .colab-df-quickchart-complete:disabled,\n",
              "  .colab-df-quickchart-complete:disabled:hover {\n",
              "    background-color: var(--disabled-bg-color);\n",
              "    fill: var(--disabled-fill-color);\n",
              "    box-shadow: none;\n",
              "  }\n",
              "\n",
              "  .colab-df-spinner {\n",
              "    border: 2px solid var(--fill-color);\n",
              "    border-color: transparent;\n",
              "    border-bottom-color: var(--fill-color);\n",
              "    animation:\n",
              "      spin 1s steps(1) infinite;\n",
              "  }\n",
              "\n",
              "  @keyframes spin {\n",
              "    0% {\n",
              "      border-color: transparent;\n",
              "      border-bottom-color: var(--fill-color);\n",
              "      border-left-color: var(--fill-color);\n",
              "    }\n",
              "    20% {\n",
              "      border-color: transparent;\n",
              "      border-left-color: var(--fill-color);\n",
              "      border-top-color: var(--fill-color);\n",
              "    }\n",
              "    30% {\n",
              "      border-color: transparent;\n",
              "      border-left-color: var(--fill-color);\n",
              "      border-top-color: var(--fill-color);\n",
              "      border-right-color: var(--fill-color);\n",
              "    }\n",
              "    40% {\n",
              "      border-color: transparent;\n",
              "      border-right-color: var(--fill-color);\n",
              "      border-top-color: var(--fill-color);\n",
              "    }\n",
              "    60% {\n",
              "      border-color: transparent;\n",
              "      border-right-color: var(--fill-color);\n",
              "    }\n",
              "    80% {\n",
              "      border-color: transparent;\n",
              "      border-right-color: var(--fill-color);\n",
              "      border-bottom-color: var(--fill-color);\n",
              "    }\n",
              "    90% {\n",
              "      border-color: transparent;\n",
              "      border-bottom-color: var(--fill-color);\n",
              "    }\n",
              "  }\n",
              "</style>\n",
              "\n",
              "  <script>\n",
              "    async function quickchart(key) {\n",
              "      const quickchartButtonEl =\n",
              "        document.querySelector('#' + key + ' button');\n",
              "      quickchartButtonEl.disabled = true;  // To prevent multiple clicks.\n",
              "      quickchartButtonEl.classList.add('colab-df-spinner');\n",
              "      try {\n",
              "        const charts = await google.colab.kernel.invokeFunction(\n",
              "            'suggestCharts', [key], {});\n",
              "      } catch (error) {\n",
              "        console.error('Error during call to suggestCharts:', error);\n",
              "      }\n",
              "      quickchartButtonEl.classList.remove('colab-df-spinner');\n",
              "      quickchartButtonEl.classList.add('colab-df-quickchart-complete');\n",
              "    }\n",
              "    (() => {\n",
              "      let quickchartButtonEl =\n",
              "        document.querySelector('#df-dae9488f-9b25-40eb-bb5b-c3fefc713228 button');\n",
              "      quickchartButtonEl.style.display =\n",
              "        google.colab.kernel.accessAllowed ? 'block' : 'none';\n",
              "    })();\n",
              "  </script>\n",
              "</div>\n",
              "    </div>\n",
              "  </div>\n"
            ]
          },
          "metadata": {},
          "execution_count": 4
        }
      ]
    },
    {
      "cell_type": "code",
      "source": [
        "df.tail()"
      ],
      "metadata": {
        "colab": {
          "base_uri": "https://localhost:8080/",
          "height": 206
        },
        "id": "eokPUcNWqQ1i",
        "outputId": "345d3926-9458-4a65-d7c2-a1dfcd658c85"
      },
      "execution_count": 5,
      "outputs": [
        {
          "output_type": "execute_result",
          "data": {
            "text/plain": [
              "     infoavail  housecost  schoolquality  policetrust  streetquality  ëvents  \\\n",
              "138          5          3              3            1              3       5   \n",
              "139          5          2              3            4              2       5   \n",
              "140          5          3              3            4              4       5   \n",
              "141          4          3              3            4              4       5   \n",
              "142          5          3              2            5              5       5   \n",
              "\n",
              "     happy  \n",
              "138      0  \n",
              "139      1  \n",
              "140      1  \n",
              "141      0  \n",
              "142      0  "
            ],
            "text/html": [
              "\n",
              "  <div id=\"df-772f82e1-d771-47c1-b00a-09f4dcda9a1f\" class=\"colab-df-container\">\n",
              "    <div>\n",
              "<style scoped>\n",
              "    .dataframe tbody tr th:only-of-type {\n",
              "        vertical-align: middle;\n",
              "    }\n",
              "\n",
              "    .dataframe tbody tr th {\n",
              "        vertical-align: top;\n",
              "    }\n",
              "\n",
              "    .dataframe thead th {\n",
              "        text-align: right;\n",
              "    }\n",
              "</style>\n",
              "<table border=\"1\" class=\"dataframe\">\n",
              "  <thead>\n",
              "    <tr style=\"text-align: right;\">\n",
              "      <th></th>\n",
              "      <th>infoavail</th>\n",
              "      <th>housecost</th>\n",
              "      <th>schoolquality</th>\n",
              "      <th>policetrust</th>\n",
              "      <th>streetquality</th>\n",
              "      <th>ëvents</th>\n",
              "      <th>happy</th>\n",
              "    </tr>\n",
              "  </thead>\n",
              "  <tbody>\n",
              "    <tr>\n",
              "      <th>138</th>\n",
              "      <td>5</td>\n",
              "      <td>3</td>\n",
              "      <td>3</td>\n",
              "      <td>1</td>\n",
              "      <td>3</td>\n",
              "      <td>5</td>\n",
              "      <td>0</td>\n",
              "    </tr>\n",
              "    <tr>\n",
              "      <th>139</th>\n",
              "      <td>5</td>\n",
              "      <td>2</td>\n",
              "      <td>3</td>\n",
              "      <td>4</td>\n",
              "      <td>2</td>\n",
              "      <td>5</td>\n",
              "      <td>1</td>\n",
              "    </tr>\n",
              "    <tr>\n",
              "      <th>140</th>\n",
              "      <td>5</td>\n",
              "      <td>3</td>\n",
              "      <td>3</td>\n",
              "      <td>4</td>\n",
              "      <td>4</td>\n",
              "      <td>5</td>\n",
              "      <td>1</td>\n",
              "    </tr>\n",
              "    <tr>\n",
              "      <th>141</th>\n",
              "      <td>4</td>\n",
              "      <td>3</td>\n",
              "      <td>3</td>\n",
              "      <td>4</td>\n",
              "      <td>4</td>\n",
              "      <td>5</td>\n",
              "      <td>0</td>\n",
              "    </tr>\n",
              "    <tr>\n",
              "      <th>142</th>\n",
              "      <td>5</td>\n",
              "      <td>3</td>\n",
              "      <td>2</td>\n",
              "      <td>5</td>\n",
              "      <td>5</td>\n",
              "      <td>5</td>\n",
              "      <td>0</td>\n",
              "    </tr>\n",
              "  </tbody>\n",
              "</table>\n",
              "</div>\n",
              "    <div class=\"colab-df-buttons\">\n",
              "\n",
              "  <div class=\"colab-df-container\">\n",
              "    <button class=\"colab-df-convert\" onclick=\"convertToInteractive('df-772f82e1-d771-47c1-b00a-09f4dcda9a1f')\"\n",
              "            title=\"Convert this dataframe to an interactive table.\"\n",
              "            style=\"display:none;\">\n",
              "\n",
              "  <svg xmlns=\"http://www.w3.org/2000/svg\" height=\"24px\" viewBox=\"0 -960 960 960\">\n",
              "    <path d=\"M120-120v-720h720v720H120Zm60-500h600v-160H180v160Zm220 220h160v-160H400v160Zm0 220h160v-160H400v160ZM180-400h160v-160H180v160Zm440 0h160v-160H620v160ZM180-180h160v-160H180v160Zm440 0h160v-160H620v160Z\"/>\n",
              "  </svg>\n",
              "    </button>\n",
              "\n",
              "  <style>\n",
              "    .colab-df-container {\n",
              "      display:flex;\n",
              "      gap: 12px;\n",
              "    }\n",
              "\n",
              "    .colab-df-convert {\n",
              "      background-color: #E8F0FE;\n",
              "      border: none;\n",
              "      border-radius: 50%;\n",
              "      cursor: pointer;\n",
              "      display: none;\n",
              "      fill: #1967D2;\n",
              "      height: 32px;\n",
              "      padding: 0 0 0 0;\n",
              "      width: 32px;\n",
              "    }\n",
              "\n",
              "    .colab-df-convert:hover {\n",
              "      background-color: #E2EBFA;\n",
              "      box-shadow: 0px 1px 2px rgba(60, 64, 67, 0.3), 0px 1px 3px 1px rgba(60, 64, 67, 0.15);\n",
              "      fill: #174EA6;\n",
              "    }\n",
              "\n",
              "    .colab-df-buttons div {\n",
              "      margin-bottom: 4px;\n",
              "    }\n",
              "\n",
              "    [theme=dark] .colab-df-convert {\n",
              "      background-color: #3B4455;\n",
              "      fill: #D2E3FC;\n",
              "    }\n",
              "\n",
              "    [theme=dark] .colab-df-convert:hover {\n",
              "      background-color: #434B5C;\n",
              "      box-shadow: 0px 1px 3px 1px rgba(0, 0, 0, 0.15);\n",
              "      filter: drop-shadow(0px 1px 2px rgba(0, 0, 0, 0.3));\n",
              "      fill: #FFFFFF;\n",
              "    }\n",
              "  </style>\n",
              "\n",
              "    <script>\n",
              "      const buttonEl =\n",
              "        document.querySelector('#df-772f82e1-d771-47c1-b00a-09f4dcda9a1f button.colab-df-convert');\n",
              "      buttonEl.style.display =\n",
              "        google.colab.kernel.accessAllowed ? 'block' : 'none';\n",
              "\n",
              "      async function convertToInteractive(key) {\n",
              "        const element = document.querySelector('#df-772f82e1-d771-47c1-b00a-09f4dcda9a1f');\n",
              "        const dataTable =\n",
              "          await google.colab.kernel.invokeFunction('convertToInteractive',\n",
              "                                                    [key], {});\n",
              "        if (!dataTable) return;\n",
              "\n",
              "        const docLinkHtml = 'Like what you see? Visit the ' +\n",
              "          '<a target=\"_blank\" href=https://colab.research.google.com/notebooks/data_table.ipynb>data table notebook</a>'\n",
              "          + ' to learn more about interactive tables.';\n",
              "        element.innerHTML = '';\n",
              "        dataTable['output_type'] = 'display_data';\n",
              "        await google.colab.output.renderOutput(dataTable, element);\n",
              "        const docLink = document.createElement('div');\n",
              "        docLink.innerHTML = docLinkHtml;\n",
              "        element.appendChild(docLink);\n",
              "      }\n",
              "    </script>\n",
              "  </div>\n",
              "\n",
              "\n",
              "<div id=\"df-bcb0f7c1-f484-4181-9066-2c2331bf4182\">\n",
              "  <button class=\"colab-df-quickchart\" onclick=\"quickchart('df-bcb0f7c1-f484-4181-9066-2c2331bf4182')\"\n",
              "            title=\"Suggest charts\"\n",
              "            style=\"display:none;\">\n",
              "\n",
              "<svg xmlns=\"http://www.w3.org/2000/svg\" height=\"24px\"viewBox=\"0 0 24 24\"\n",
              "     width=\"24px\">\n",
              "    <g>\n",
              "        <path d=\"M19 3H5c-1.1 0-2 .9-2 2v14c0 1.1.9 2 2 2h14c1.1 0 2-.9 2-2V5c0-1.1-.9-2-2-2zM9 17H7v-7h2v7zm4 0h-2V7h2v10zm4 0h-2v-4h2v4z\"/>\n",
              "    </g>\n",
              "</svg>\n",
              "  </button>\n",
              "\n",
              "<style>\n",
              "  .colab-df-quickchart {\n",
              "      --bg-color: #E8F0FE;\n",
              "      --fill-color: #1967D2;\n",
              "      --hover-bg-color: #E2EBFA;\n",
              "      --hover-fill-color: #174EA6;\n",
              "      --disabled-fill-color: #AAA;\n",
              "      --disabled-bg-color: #DDD;\n",
              "  }\n",
              "\n",
              "  [theme=dark] .colab-df-quickchart {\n",
              "      --bg-color: #3B4455;\n",
              "      --fill-color: #D2E3FC;\n",
              "      --hover-bg-color: #434B5C;\n",
              "      --hover-fill-color: #FFFFFF;\n",
              "      --disabled-bg-color: #3B4455;\n",
              "      --disabled-fill-color: #666;\n",
              "  }\n",
              "\n",
              "  .colab-df-quickchart {\n",
              "    background-color: var(--bg-color);\n",
              "    border: none;\n",
              "    border-radius: 50%;\n",
              "    cursor: pointer;\n",
              "    display: none;\n",
              "    fill: var(--fill-color);\n",
              "    height: 32px;\n",
              "    padding: 0;\n",
              "    width: 32px;\n",
              "  }\n",
              "\n",
              "  .colab-df-quickchart:hover {\n",
              "    background-color: var(--hover-bg-color);\n",
              "    box-shadow: 0 1px 2px rgba(60, 64, 67, 0.3), 0 1px 3px 1px rgba(60, 64, 67, 0.15);\n",
              "    fill: var(--button-hover-fill-color);\n",
              "  }\n",
              "\n",
              "  .colab-df-quickchart-complete:disabled,\n",
              "  .colab-df-quickchart-complete:disabled:hover {\n",
              "    background-color: var(--disabled-bg-color);\n",
              "    fill: var(--disabled-fill-color);\n",
              "    box-shadow: none;\n",
              "  }\n",
              "\n",
              "  .colab-df-spinner {\n",
              "    border: 2px solid var(--fill-color);\n",
              "    border-color: transparent;\n",
              "    border-bottom-color: var(--fill-color);\n",
              "    animation:\n",
              "      spin 1s steps(1) infinite;\n",
              "  }\n",
              "\n",
              "  @keyframes spin {\n",
              "    0% {\n",
              "      border-color: transparent;\n",
              "      border-bottom-color: var(--fill-color);\n",
              "      border-left-color: var(--fill-color);\n",
              "    }\n",
              "    20% {\n",
              "      border-color: transparent;\n",
              "      border-left-color: var(--fill-color);\n",
              "      border-top-color: var(--fill-color);\n",
              "    }\n",
              "    30% {\n",
              "      border-color: transparent;\n",
              "      border-left-color: var(--fill-color);\n",
              "      border-top-color: var(--fill-color);\n",
              "      border-right-color: var(--fill-color);\n",
              "    }\n",
              "    40% {\n",
              "      border-color: transparent;\n",
              "      border-right-color: var(--fill-color);\n",
              "      border-top-color: var(--fill-color);\n",
              "    }\n",
              "    60% {\n",
              "      border-color: transparent;\n",
              "      border-right-color: var(--fill-color);\n",
              "    }\n",
              "    80% {\n",
              "      border-color: transparent;\n",
              "      border-right-color: var(--fill-color);\n",
              "      border-bottom-color: var(--fill-color);\n",
              "    }\n",
              "    90% {\n",
              "      border-color: transparent;\n",
              "      border-bottom-color: var(--fill-color);\n",
              "    }\n",
              "  }\n",
              "</style>\n",
              "\n",
              "  <script>\n",
              "    async function quickchart(key) {\n",
              "      const quickchartButtonEl =\n",
              "        document.querySelector('#' + key + ' button');\n",
              "      quickchartButtonEl.disabled = true;  // To prevent multiple clicks.\n",
              "      quickchartButtonEl.classList.add('colab-df-spinner');\n",
              "      try {\n",
              "        const charts = await google.colab.kernel.invokeFunction(\n",
              "            'suggestCharts', [key], {});\n",
              "      } catch (error) {\n",
              "        console.error('Error during call to suggestCharts:', error);\n",
              "      }\n",
              "      quickchartButtonEl.classList.remove('colab-df-spinner');\n",
              "      quickchartButtonEl.classList.add('colab-df-quickchart-complete');\n",
              "    }\n",
              "    (() => {\n",
              "      let quickchartButtonEl =\n",
              "        document.querySelector('#df-bcb0f7c1-f484-4181-9066-2c2331bf4182 button');\n",
              "      quickchartButtonEl.style.display =\n",
              "        google.colab.kernel.accessAllowed ? 'block' : 'none';\n",
              "    })();\n",
              "  </script>\n",
              "</div>\n",
              "    </div>\n",
              "  </div>\n"
            ]
          },
          "metadata": {},
          "execution_count": 5
        }
      ]
    },
    {
      "cell_type": "code",
      "source": [
        "df.shape"
      ],
      "metadata": {
        "colab": {
          "base_uri": "https://localhost:8080/"
        },
        "id": "0vmPSGNdqXSh",
        "outputId": "5539b683-12b9-44dd-99e3-c68e49b9873b"
      },
      "execution_count": 6,
      "outputs": [
        {
          "output_type": "execute_result",
          "data": {
            "text/plain": [
              "(143, 7)"
            ]
          },
          "metadata": {},
          "execution_count": 6
        }
      ]
    },
    {
      "cell_type": "code",
      "source": [
        "df.columns"
      ],
      "metadata": {
        "colab": {
          "base_uri": "https://localhost:8080/"
        },
        "id": "MfOlBRwSqYzc",
        "outputId": "bfa5da33-3045-4409-f71f-5dcbe9e8687e"
      },
      "execution_count": 7,
      "outputs": [
        {
          "output_type": "execute_result",
          "data": {
            "text/plain": [
              "Index(['infoavail', 'housecost', 'schoolquality', 'policetrust',\n",
              "       'streetquality', 'ëvents', 'happy'],\n",
              "      dtype='object')"
            ]
          },
          "metadata": {},
          "execution_count": 7
        }
      ]
    },
    {
      "cell_type": "code",
      "source": [
        "df.dtypes"
      ],
      "metadata": {
        "colab": {
          "base_uri": "https://localhost:8080/"
        },
        "id": "xDULiW9mqcbE",
        "outputId": "e91a2253-772d-4456-f694-0125077e9f34"
      },
      "execution_count": 8,
      "outputs": [
        {
          "output_type": "execute_result",
          "data": {
            "text/plain": [
              "infoavail        int64\n",
              "housecost        int64\n",
              "schoolquality    int64\n",
              "policetrust      int64\n",
              "streetquality    int64\n",
              "ëvents           int64\n",
              "happy            int64\n",
              "dtype: object"
            ]
          },
          "metadata": {},
          "execution_count": 8
        }
      ]
    },
    {
      "cell_type": "markdown",
      "source": [
        "# Checking NaN Values"
      ],
      "metadata": {
        "id": "bRKB4Zh-qj8K"
      }
    },
    {
      "cell_type": "code",
      "source": [
        "df.isna().sum()"
      ],
      "metadata": {
        "colab": {
          "base_uri": "https://localhost:8080/"
        },
        "id": "-4vHQsm8qepz",
        "outputId": "6bbd156e-ad00-480d-fc0c-c26986555d21"
      },
      "execution_count": 9,
      "outputs": [
        {
          "output_type": "execute_result",
          "data": {
            "text/plain": [
              "infoavail        0\n",
              "housecost        0\n",
              "schoolquality    0\n",
              "policetrust      0\n",
              "streetquality    0\n",
              "ëvents           0\n",
              "happy            0\n",
              "dtype: int64"
            ]
          },
          "metadata": {},
          "execution_count": 9
        }
      ]
    },
    {
      "cell_type": "markdown",
      "source": [
        "# Preprocessing"
      ],
      "metadata": {
        "id": "nucCARhIqruS"
      }
    },
    {
      "cell_type": "markdown",
      "source": [
        "## Spliting Into X and y"
      ],
      "metadata": {
        "id": "jX5JUFheqvOM"
      }
    },
    {
      "cell_type": "code",
      "source": [
        "X = df.iloc[:, :-1].values\n",
        "y = df.iloc[:,-1].values"
      ],
      "metadata": {
        "id": "nk5Z6HgzqoLj"
      },
      "execution_count": 10,
      "outputs": []
    },
    {
      "cell_type": "code",
      "source": [
        "X"
      ],
      "metadata": {
        "colab": {
          "base_uri": "https://localhost:8080/"
        },
        "id": "fjMNCbUkq4Uq",
        "outputId": "0b250684-749e-41f3-d75e-b936ce196b17"
      },
      "execution_count": 11,
      "outputs": [
        {
          "output_type": "execute_result",
          "data": {
            "text/plain": [
              "array([[3, 3, 3, 4, 2, 4],\n",
              "       [3, 2, 3, 5, 4, 3],\n",
              "       [5, 3, 3, 3, 3, 5],\n",
              "       [5, 4, 3, 3, 3, 5],\n",
              "       [5, 4, 3, 3, 3, 5],\n",
              "       [5, 5, 3, 5, 5, 5],\n",
              "       [3, 1, 2, 2, 1, 3],\n",
              "       [5, 4, 4, 4, 4, 5],\n",
              "       [4, 1, 4, 4, 4, 4],\n",
              "       [4, 4, 4, 2, 5, 5],\n",
              "       [3, 2, 3, 3, 2, 3],\n",
              "       [4, 4, 3, 4, 4, 4],\n",
              "       [5, 2, 4, 5, 5, 5],\n",
              "       [4, 2, 4, 5, 4, 3],\n",
              "       [4, 1, 3, 3, 4, 3],\n",
              "       [3, 2, 4, 3, 4, 4],\n",
              "       [5, 3, 4, 5, 4, 5],\n",
              "       [5, 1, 4, 3, 4, 5],\n",
              "       [5, 1, 2, 4, 4, 5],\n",
              "       [4, 2, 4, 4, 4, 4],\n",
              "       [4, 2, 3, 3, 4, 4],\n",
              "       [4, 2, 3, 3, 4, 4],\n",
              "       [4, 3, 5, 5, 5, 4],\n",
              "       [4, 3, 5, 5, 5, 4],\n",
              "       [5, 1, 2, 5, 2, 4],\n",
              "       [4, 3, 3, 3, 3, 4],\n",
              "       [3, 4, 3, 3, 2, 3],\n",
              "       [3, 3, 3, 5, 5, 5],\n",
              "       [3, 3, 1, 3, 3, 4],\n",
              "       [3, 3, 1, 3, 3, 4],\n",
              "       [5, 3, 3, 3, 5, 3],\n",
              "       [5, 3, 3, 3, 5, 3],\n",
              "       [4, 3, 3, 3, 4, 4],\n",
              "       [4, 1, 3, 4, 4, 5],\n",
              "       [3, 2, 4, 4, 4, 5],\n",
              "       [3, 2, 4, 4, 4, 5],\n",
              "       [4, 1, 3, 1, 1, 4],\n",
              "       [4, 2, 3, 3, 4, 4],\n",
              "       [5, 3, 4, 3, 4, 5],\n",
              "       [5, 3, 4, 3, 4, 5],\n",
              "       [5, 2, 3, 3, 2, 5],\n",
              "       [4, 4, 3, 4, 2, 4],\n",
              "       [4, 1, 3, 4, 4, 3],\n",
              "       [5, 2, 3, 3, 3, 3],\n",
              "       [4, 2, 4, 3, 2, 4],\n",
              "       [5, 2, 3, 3, 4, 5],\n",
              "       [4, 3, 3, 4, 2, 4],\n",
              "       [3, 1, 2, 4, 3, 5],\n",
              "       [5, 3, 4, 4, 4, 5],\n",
              "       [5, 3, 3, 4, 4, 5],\n",
              "       [1, 1, 1, 3, 1, 4],\n",
              "       [5, 2, 5, 5, 5, 3],\n",
              "       [5, 1, 3, 3, 4, 4],\n",
              "       [5, 1, 3, 3, 4, 4],\n",
              "       [5, 1, 3, 3, 4, 4],\n",
              "       [5, 2, 4, 3, 4, 5],\n",
              "       [5, 2, 4, 3, 4, 5],\n",
              "       [4, 3, 2, 4, 3, 4],\n",
              "       [4, 3, 2, 4, 3, 4],\n",
              "       [5, 1, 1, 5, 3, 5],\n",
              "       [4, 4, 4, 4, 3, 4],\n",
              "       [5, 3, 5, 5, 4, 5],\n",
              "       [5, 2, 4, 2, 2, 4],\n",
              "       [4, 4, 3, 3, 2, 5],\n",
              "       [4, 3, 3, 3, 3, 5],\n",
              "       [5, 2, 4, 4, 5, 5],\n",
              "       [5, 2, 4, 4, 5, 5],\n",
              "       [5, 5, 5, 2, 5, 5],\n",
              "       [4, 1, 3, 4, 4, 4],\n",
              "       [4, 1, 3, 4, 4, 4],\n",
              "       [3, 3, 3, 5, 4, 3],\n",
              "       [4, 1, 1, 3, 4, 4],\n",
              "       [5, 1, 5, 5, 5, 5],\n",
              "       [5, 4, 5, 5, 5, 5],\n",
              "       [4, 2, 2, 4, 4, 5],\n",
              "       [4, 3, 3, 4, 3, 4],\n",
              "       [3, 4, 3, 4, 1, 4],\n",
              "       [4, 5, 5, 5, 1, 3],\n",
              "       [4, 3, 3, 4, 2, 4],\n",
              "       [5, 2, 3, 3, 2, 5],\n",
              "       [5, 3, 3, 4, 3, 3],\n",
              "       [5, 2, 5, 5, 5, 5],\n",
              "       [3, 2, 3, 3, 4, 4],\n",
              "       [4, 3, 2, 3, 2, 4],\n",
              "       [5, 2, 3, 5, 5, 5],\n",
              "       [5, 3, 3, 3, 2, 5],\n",
              "       [5, 5, 5, 5, 5, 5],\n",
              "       [4, 3, 2, 4, 4, 4],\n",
              "       [3, 3, 3, 3, 3, 4],\n",
              "       [4, 2, 4, 4, 4, 4],\n",
              "       [5, 3, 2, 4, 4, 4],\n",
              "       [4, 3, 4, 4, 2, 4],\n",
              "       [5, 2, 3, 4, 4, 5],\n",
              "       [5, 3, 3, 3, 5, 5],\n",
              "       [4, 1, 3, 4, 4, 3],\n",
              "       [5, 2, 4, 5, 4, 5],\n",
              "       [5, 4, 2, 4, 3, 5],\n",
              "       [3, 3, 1, 3, 2, 3],\n",
              "       [3, 4, 5, 4, 5, 4],\n",
              "       [5, 1, 3, 4, 5, 5],\n",
              "       [5, 4, 5, 5, 5, 4],\n",
              "       [5, 5, 3, 4, 4, 5],\n",
              "       [5, 4, 4, 3, 3, 4],\n",
              "       [5, 4, 4, 4, 4, 5],\n",
              "       [3, 1, 3, 2, 1, 2],\n",
              "       [5, 5, 5, 5, 5, 5],\n",
              "       [4, 4, 3, 4, 3, 3],\n",
              "       [5, 4, 5, 4, 5, 4],\n",
              "       [4, 2, 3, 4, 3, 3],\n",
              "       [3, 3, 2, 4, 4, 4],\n",
              "       [5, 2, 2, 4, 5, 5],\n",
              "       [5, 3, 2, 4, 4, 5],\n",
              "       [3, 1, 2, 3, 3, 1],\n",
              "       [5, 3, 4, 3, 4, 3],\n",
              "       [5, 2, 3, 3, 3, 5],\n",
              "       [4, 3, 4, 4, 3, 4],\n",
              "       [3, 2, 2, 3, 3, 3],\n",
              "       [4, 1, 3, 5, 3, 5],\n",
              "       [5, 1, 4, 3, 5, 5],\n",
              "       [4, 1, 3, 2, 4, 4],\n",
              "       [5, 1, 5, 3, 5, 5],\n",
              "       [4, 2, 4, 4, 4, 4],\n",
              "       [5, 2, 4, 4, 5, 5],\n",
              "       [5, 3, 4, 4, 4, 4],\n",
              "       [5, 2, 4, 4, 2, 3],\n",
              "       [5, 3, 3, 4, 4, 5],\n",
              "       [5, 3, 3, 4, 4, 4],\n",
              "       [3, 2, 3, 3, 5, 4],\n",
              "       [4, 1, 3, 3, 3, 4],\n",
              "       [5, 1, 4, 4, 4, 5],\n",
              "       [5, 2, 2, 4, 4, 5],\n",
              "       [5, 3, 5, 4, 5, 5],\n",
              "       [3, 4, 4, 5, 1, 3],\n",
              "       [5, 1, 5, 5, 5, 5],\n",
              "       [4, 3, 3, 4, 4, 4],\n",
              "       [5, 5, 1, 1, 5, 1],\n",
              "       [4, 4, 4, 4, 1, 3],\n",
              "       [5, 2, 3, 4, 4, 3],\n",
              "       [5, 3, 3, 1, 3, 5],\n",
              "       [5, 2, 3, 4, 2, 5],\n",
              "       [5, 3, 3, 4, 4, 5],\n",
              "       [4, 3, 3, 4, 4, 5],\n",
              "       [5, 3, 2, 5, 5, 5]])"
            ]
          },
          "metadata": {},
          "execution_count": 11
        }
      ]
    },
    {
      "cell_type": "code",
      "source": [
        "y"
      ],
      "metadata": {
        "colab": {
          "base_uri": "https://localhost:8080/"
        },
        "id": "ZegFJLjfq4lB",
        "outputId": "1b5b2759-cc48-45e1-b465-f25c65a8711a"
      },
      "execution_count": 12,
      "outputs": [
        {
          "output_type": "execute_result",
          "data": {
            "text/plain": [
              "array([0, 0, 1, 0, 0, 1, 0, 1, 0, 0, 0, 0, 1, 0, 0, 1, 0, 1, 0, 0, 1, 1,\n",
              "       0, 0, 1, 1, 0, 1, 1, 1, 1, 0, 0, 0, 1, 1, 1, 0, 1, 1, 1, 1, 0, 0,\n",
              "       1, 0, 0, 1, 1, 1, 0, 1, 1, 1, 1, 1, 1, 1, 1, 0, 0, 1, 1, 1, 0, 1,\n",
              "       1, 0, 1, 1, 0, 0, 1, 1, 1, 1, 0, 0, 1, 0, 0, 1, 0, 0, 1, 0, 1, 1,\n",
              "       0, 1, 1, 0, 1, 1, 0, 1, 0, 0, 0, 1, 1, 1, 1, 1, 0, 1, 0, 1, 1, 0,\n",
              "       1, 1, 0, 1, 0, 1, 0, 0, 1, 0, 1, 0, 0, 1, 1, 0, 0, 0, 0, 0, 0, 0,\n",
              "       1, 1, 1, 1, 0, 1, 0, 1, 1, 0, 0])"
            ]
          },
          "metadata": {},
          "execution_count": 12
        }
      ]
    },
    {
      "cell_type": "markdown",
      "source": [
        "## Train Test Split"
      ],
      "metadata": {
        "id": "lnEagAg0q7Xj"
      }
    },
    {
      "cell_type": "code",
      "source": [
        "from sklearn.model_selection import train_test_split\n",
        "X_train, X_test, y_train, y_test = train_test_split(X, y, test_size = 0.2, random_state = 0)"
      ],
      "metadata": {
        "id": "E0dJ9wkhq430"
      },
      "execution_count": 13,
      "outputs": []
    },
    {
      "cell_type": "code",
      "source": [
        "X_train"
      ],
      "metadata": {
        "colab": {
          "base_uri": "https://localhost:8080/"
        },
        "id": "MCS0n2OGrL26",
        "outputId": "903bcef3-35df-45d3-86de-b4a92c086cf8"
      },
      "execution_count": 14,
      "outputs": [
        {
          "output_type": "execute_result",
          "data": {
            "text/plain": [
              "array([[5, 3, 3, 4, 4, 4],\n",
              "       [5, 3, 3, 3, 3, 5],\n",
              "       [3, 3, 3, 5, 5, 5],\n",
              "       [5, 3, 3, 4, 4, 5],\n",
              "       [3, 2, 3, 3, 2, 3],\n",
              "       [5, 2, 3, 3, 3, 3],\n",
              "       [5, 2, 3, 4, 2, 5],\n",
              "       [5, 1, 3, 3, 4, 4],\n",
              "       [5, 2, 4, 5, 4, 5],\n",
              "       [5, 2, 5, 5, 5, 3],\n",
              "       [5, 3, 3, 3, 2, 5],\n",
              "       [5, 2, 2, 4, 5, 5],\n",
              "       [5, 3, 3, 3, 5, 5],\n",
              "       [5, 3, 2, 4, 4, 4],\n",
              "       [5, 2, 4, 4, 5, 5],\n",
              "       [5, 3, 3, 3, 5, 3],\n",
              "       [1, 1, 1, 3, 1, 4],\n",
              "       [4, 1, 3, 3, 3, 4],\n",
              "       [5, 4, 5, 5, 5, 5],\n",
              "       [5, 1, 1, 5, 3, 5],\n",
              "       [4, 3, 3, 4, 2, 4],\n",
              "       [3, 1, 2, 3, 3, 1],\n",
              "       [5, 3, 2, 4, 4, 5],\n",
              "       [5, 3, 4, 4, 4, 5],\n",
              "       [5, 2, 3, 4, 4, 3],\n",
              "       [4, 1, 1, 3, 4, 4],\n",
              "       [4, 2, 4, 5, 4, 3],\n",
              "       [5, 3, 5, 5, 4, 5],\n",
              "       [3, 4, 5, 4, 5, 4],\n",
              "       [5, 2, 3, 3, 3, 5],\n",
              "       [3, 4, 3, 4, 1, 4],\n",
              "       [5, 2, 4, 4, 5, 5],\n",
              "       [3, 2, 4, 3, 4, 4],\n",
              "       [5, 2, 4, 4, 2, 3],\n",
              "       [5, 2, 3, 3, 2, 5],\n",
              "       [5, 1, 3, 3, 4, 4],\n",
              "       [5, 4, 3, 3, 3, 5],\n",
              "       [3, 2, 2, 3, 3, 3],\n",
              "       [3, 1, 2, 2, 1, 3],\n",
              "       [4, 1, 3, 4, 4, 4],\n",
              "       [4, 3, 2, 3, 2, 4],\n",
              "       [5, 2, 4, 5, 5, 5],\n",
              "       [4, 2, 4, 4, 4, 4],\n",
              "       [5, 4, 5, 4, 5, 4],\n",
              "       [4, 3, 4, 4, 2, 4],\n",
              "       [4, 3, 3, 4, 2, 4],\n",
              "       [4, 4, 3, 4, 4, 4],\n",
              "       [3, 3, 1, 3, 2, 3],\n",
              "       [5, 4, 4, 3, 3, 4],\n",
              "       [4, 4, 3, 4, 2, 4],\n",
              "       [3, 1, 3, 2, 1, 2],\n",
              "       [3, 2, 3, 5, 4, 3],\n",
              "       [5, 4, 5, 5, 5, 4],\n",
              "       [3, 4, 4, 5, 1, 3],\n",
              "       [4, 1, 3, 4, 4, 3],\n",
              "       [5, 4, 3, 3, 3, 5],\n",
              "       [4, 3, 3, 4, 4, 5],\n",
              "       [5, 1, 4, 3, 4, 5],\n",
              "       [5, 3, 4, 3, 4, 5],\n",
              "       [5, 5, 3, 5, 5, 5],\n",
              "       [5, 1, 3, 3, 4, 4],\n",
              "       [4, 4, 4, 4, 1, 3],\n",
              "       [5, 2, 3, 4, 4, 5],\n",
              "       [3, 3, 3, 4, 2, 4],\n",
              "       [3, 2, 4, 4, 4, 5],\n",
              "       [3, 3, 1, 3, 3, 4],\n",
              "       [5, 2, 4, 3, 4, 5],\n",
              "       [4, 3, 3, 4, 3, 4],\n",
              "       [3, 2, 4, 4, 4, 5],\n",
              "       [4, 3, 5, 5, 5, 4],\n",
              "       [4, 2, 2, 4, 4, 5],\n",
              "       [5, 3, 3, 3, 5, 3],\n",
              "       [5, 5, 5, 5, 5, 5],\n",
              "       [4, 3, 2, 4, 3, 4],\n",
              "       [5, 3, 4, 4, 4, 4],\n",
              "       [5, 2, 4, 4, 5, 5],\n",
              "       [4, 3, 3, 3, 4, 4],\n",
              "       [5, 3, 5, 4, 5, 5],\n",
              "       [4, 1, 3, 3, 4, 3],\n",
              "       [3, 3, 2, 4, 4, 4],\n",
              "       [4, 2, 4, 4, 4, 4],\n",
              "       [3, 3, 1, 3, 3, 4],\n",
              "       [5, 3, 3, 4, 4, 5],\n",
              "       [5, 1, 4, 4, 4, 5],\n",
              "       [5, 1, 3, 4, 5, 5],\n",
              "       [3, 2, 3, 3, 4, 4],\n",
              "       [4, 3, 3, 3, 3, 5],\n",
              "       [5, 3, 2, 5, 5, 5],\n",
              "       [5, 2, 3, 3, 2, 5],\n",
              "       [4, 1, 3, 4, 4, 4],\n",
              "       [4, 2, 4, 4, 4, 4],\n",
              "       [5, 3, 3, 4, 3, 3],\n",
              "       [4, 3, 4, 4, 3, 4],\n",
              "       [4, 2, 3, 3, 4, 4],\n",
              "       [5, 3, 3, 1, 3, 5],\n",
              "       [5, 1, 5, 5, 5, 5],\n",
              "       [4, 5, 5, 5, 1, 3],\n",
              "       [4, 3, 3, 3, 3, 4],\n",
              "       [4, 2, 3, 3, 4, 4],\n",
              "       [5, 2, 5, 5, 5, 5],\n",
              "       [5, 1, 5, 5, 5, 5],\n",
              "       [5, 5, 1, 1, 5, 1],\n",
              "       [5, 3, 4, 3, 4, 5],\n",
              "       [4, 3, 2, 4, 3, 4],\n",
              "       [3, 3, 3, 3, 3, 4],\n",
              "       [3, 3, 3, 5, 4, 3],\n",
              "       [4, 3, 2, 4, 4, 4],\n",
              "       [4, 1, 3, 1, 1, 4],\n",
              "       [4, 2, 3, 3, 4, 4],\n",
              "       [4, 4, 4, 2, 5, 5],\n",
              "       [5, 4, 4, 4, 4, 5],\n",
              "       [5, 5, 5, 2, 5, 5],\n",
              "       [4, 1, 3, 5, 3, 5],\n",
              "       [3, 1, 2, 4, 3, 5]])"
            ]
          },
          "metadata": {},
          "execution_count": 14
        }
      ]
    },
    {
      "cell_type": "code",
      "source": [
        "X_test"
      ],
      "metadata": {
        "colab": {
          "base_uri": "https://localhost:8080/"
        },
        "id": "oX-dCB2ZrNFC",
        "outputId": "df7c8007-1c28-419b-d1d0-aa1c28002a34"
      },
      "execution_count": 15,
      "outputs": [
        {
          "output_type": "execute_result",
          "data": {
            "text/plain": [
              "array([[5, 2, 3, 3, 4, 5],\n",
              "       [5, 1, 4, 3, 5, 5],\n",
              "       [5, 3, 4, 5, 4, 5],\n",
              "       [5, 2, 4, 3, 4, 5],\n",
              "       [4, 3, 5, 5, 5, 4],\n",
              "       [5, 4, 4, 4, 4, 5],\n",
              "       [4, 2, 3, 4, 3, 3],\n",
              "       [4, 3, 3, 4, 4, 4],\n",
              "       [5, 2, 2, 4, 4, 5],\n",
              "       [5, 5, 3, 4, 4, 5],\n",
              "       [4, 1, 3, 4, 4, 3],\n",
              "       [3, 2, 3, 3, 5, 4],\n",
              "       [4, 1, 4, 4, 4, 4],\n",
              "       [5, 4, 2, 4, 3, 5],\n",
              "       [5, 3, 3, 4, 4, 5],\n",
              "       [4, 1, 3, 4, 4, 5],\n",
              "       [5, 2, 3, 5, 5, 5],\n",
              "       [5, 1, 5, 3, 5, 5],\n",
              "       [4, 1, 3, 2, 4, 4],\n",
              "       [5, 1, 2, 5, 2, 4],\n",
              "       [4, 4, 3, 3, 2, 5],\n",
              "       [5, 5, 5, 5, 5, 5],\n",
              "       [4, 4, 4, 4, 3, 4],\n",
              "       [3, 4, 3, 3, 2, 3],\n",
              "       [5, 2, 4, 2, 2, 4],\n",
              "       [5, 1, 2, 4, 4, 5],\n",
              "       [5, 3, 4, 3, 4, 3],\n",
              "       [4, 4, 3, 4, 3, 3],\n",
              "       [4, 2, 4, 3, 2, 4]])"
            ]
          },
          "metadata": {},
          "execution_count": 15
        }
      ]
    },
    {
      "cell_type": "code",
      "source": [
        "y_train"
      ],
      "metadata": {
        "colab": {
          "base_uri": "https://localhost:8080/"
        },
        "id": "mNwmETx9rNrZ",
        "outputId": "be4e9a65-dbe6-4d94-bce9-a986de461a1c"
      },
      "execution_count": 16,
      "outputs": [
        {
          "output_type": "execute_result",
          "data": {
            "text/plain": [
              "array([0, 1, 1, 0, 0, 0, 1, 1, 1, 1, 0, 1, 1, 1, 1, 1, 0, 0, 1, 0, 1, 0,\n",
              "       1, 1, 1, 0, 0, 1, 0, 0, 0, 0, 1, 1, 1, 1, 0, 0, 0, 1, 0, 1, 1, 1,\n",
              "       0, 0, 0, 0, 1, 1, 0, 0, 1, 1, 0, 0, 0, 1, 1, 1, 1, 0, 1, 0, 1, 1,\n",
              "       1, 1, 1, 0, 1, 0, 1, 1, 1, 1, 0, 0, 0, 0, 0, 1, 1, 0, 1, 0, 0, 0,\n",
              "       0, 1, 0, 0, 1, 1, 0, 1, 0, 1, 0, 1, 1, 1, 1, 1, 0, 0, 1, 1, 1, 0,\n",
              "       1, 0, 0, 1])"
            ]
          },
          "metadata": {},
          "execution_count": 16
        }
      ]
    },
    {
      "cell_type": "code",
      "source": [
        "y_test"
      ],
      "metadata": {
        "colab": {
          "base_uri": "https://localhost:8080/"
        },
        "id": "5l8fIky2rOxb",
        "outputId": "707ee2ca-9065-4753-f3e3-0dcefd94cba8"
      },
      "execution_count": 17,
      "outputs": [
        {
          "output_type": "execute_result",
          "data": {
            "text/plain": [
              "array([0, 1, 0, 1, 0, 1, 1, 1, 0, 1, 0, 0, 0, 0, 1, 0, 1, 1, 0, 1, 1, 1,\n",
              "       0, 0, 1, 0, 1, 0, 1])"
            ]
          },
          "metadata": {},
          "execution_count": 17
        }
      ]
    },
    {
      "cell_type": "markdown",
      "source": [
        "# Feature Scalling"
      ],
      "metadata": {
        "id": "wpNZbJqPrS-T"
      }
    },
    {
      "cell_type": "code",
      "source": [
        "from sklearn.preprocessing import StandardScaler\n",
        "sc = StandardScaler()\n",
        "X_train = sc.fit_transform(X_train)\n",
        "X_test = sc.transform(X_test)"
      ],
      "metadata": {
        "id": "3FjoVYwMrPzR"
      },
      "execution_count": 18,
      "outputs": []
    },
    {
      "cell_type": "code",
      "source": [
        "X_train"
      ],
      "metadata": {
        "colab": {
          "base_uri": "https://localhost:8080/"
        },
        "id": "7VCDMURsrnqz",
        "outputId": "7c22eb23-f8cb-47a4-b2ac-2985ec34e051"
      },
      "execution_count": 19,
      "outputs": [
        {
          "output_type": "execute_result",
          "data": {
            "text/plain": [
              "array([[ 0.87699437,  0.42668844, -0.23219847,  0.34128886,  0.35515471,\n",
              "        -0.21316776],\n",
              "       [ 0.87699437,  0.42668844, -0.23219847, -0.7703377 , -0.50628438,\n",
              "         0.94402866],\n",
              "       [-1.5320986 ,  0.42668844, -0.23219847,  1.45291541,  1.21659381,\n",
              "         0.94402866],\n",
              "       [ 0.87699437,  0.42668844, -0.23219847,  0.34128886,  0.35515471,\n",
              "         0.94402866],\n",
              "       [-1.5320986 , -0.50874391, -0.23219847, -0.7703377 , -1.36772348,\n",
              "        -1.37036418],\n",
              "       [ 0.87699437, -0.50874391, -0.23219847, -0.7703377 , -0.50628438,\n",
              "        -1.37036418],\n",
              "       [ 0.87699437, -0.50874391, -0.23219847,  0.34128886, -1.36772348,\n",
              "         0.94402866],\n",
              "       [ 0.87699437, -1.44417625, -0.23219847, -0.7703377 ,  0.35515471,\n",
              "        -0.21316776],\n",
              "       [ 0.87699437, -0.50874391,  0.74819508,  1.45291541,  0.35515471,\n",
              "         0.94402866],\n",
              "       [ 0.87699437, -0.50874391,  1.72858863,  1.45291541,  1.21659381,\n",
              "        -1.37036418],\n",
              "       [ 0.87699437,  0.42668844, -0.23219847, -0.7703377 , -1.36772348,\n",
              "         0.94402866],\n",
              "       [ 0.87699437, -0.50874391, -1.21259202,  0.34128886,  1.21659381,\n",
              "         0.94402866],\n",
              "       [ 0.87699437,  0.42668844, -0.23219847, -0.7703377 ,  1.21659381,\n",
              "         0.94402866],\n",
              "       [ 0.87699437,  0.42668844, -1.21259202,  0.34128886,  0.35515471,\n",
              "        -0.21316776],\n",
              "       [ 0.87699437, -0.50874391,  0.74819508,  0.34128886,  1.21659381,\n",
              "         0.94402866],\n",
              "       [ 0.87699437,  0.42668844, -0.23219847, -0.7703377 ,  1.21659381,\n",
              "        -1.37036418],\n",
              "       [-3.94119157, -1.44417625, -2.19298557, -0.7703377 , -2.22916257,\n",
              "        -0.21316776],\n",
              "       [-0.32755211, -1.44417625, -0.23219847, -0.7703377 , -0.50628438,\n",
              "        -0.21316776],\n",
              "       [ 0.87699437,  1.36212078,  1.72858863,  1.45291541,  1.21659381,\n",
              "         0.94402866],\n",
              "       [ 0.87699437, -1.44417625, -2.19298557,  1.45291541, -0.50628438,\n",
              "         0.94402866],\n",
              "       [-0.32755211,  0.42668844, -0.23219847,  0.34128886, -1.36772348,\n",
              "        -0.21316776],\n",
              "       [-1.5320986 , -1.44417625, -1.21259202, -0.7703377 , -0.50628438,\n",
              "        -3.68475702],\n",
              "       [ 0.87699437,  0.42668844, -1.21259202,  0.34128886,  0.35515471,\n",
              "         0.94402866],\n",
              "       [ 0.87699437,  0.42668844,  0.74819508,  0.34128886,  0.35515471,\n",
              "         0.94402866],\n",
              "       [ 0.87699437, -0.50874391, -0.23219847,  0.34128886,  0.35515471,\n",
              "        -1.37036418],\n",
              "       [-0.32755211, -1.44417625, -2.19298557, -0.7703377 ,  0.35515471,\n",
              "        -0.21316776],\n",
              "       [-0.32755211, -0.50874391,  0.74819508,  1.45291541,  0.35515471,\n",
              "        -1.37036418],\n",
              "       [ 0.87699437,  0.42668844,  1.72858863,  1.45291541,  0.35515471,\n",
              "         0.94402866],\n",
              "       [-1.5320986 ,  1.36212078,  1.72858863,  0.34128886,  1.21659381,\n",
              "        -0.21316776],\n",
              "       [ 0.87699437, -0.50874391, -0.23219847, -0.7703377 , -0.50628438,\n",
              "         0.94402866],\n",
              "       [-1.5320986 ,  1.36212078, -0.23219847,  0.34128886, -2.22916257,\n",
              "        -0.21316776],\n",
              "       [ 0.87699437, -0.50874391,  0.74819508,  0.34128886,  1.21659381,\n",
              "         0.94402866],\n",
              "       [-1.5320986 , -0.50874391,  0.74819508, -0.7703377 ,  0.35515471,\n",
              "        -0.21316776],\n",
              "       [ 0.87699437, -0.50874391,  0.74819508,  0.34128886, -1.36772348,\n",
              "        -1.37036418],\n",
              "       [ 0.87699437, -0.50874391, -0.23219847, -0.7703377 , -1.36772348,\n",
              "         0.94402866],\n",
              "       [ 0.87699437, -1.44417625, -0.23219847, -0.7703377 ,  0.35515471,\n",
              "        -0.21316776],\n",
              "       [ 0.87699437,  1.36212078, -0.23219847, -0.7703377 , -0.50628438,\n",
              "         0.94402866],\n",
              "       [-1.5320986 , -0.50874391, -1.21259202, -0.7703377 , -0.50628438,\n",
              "        -1.37036418],\n",
              "       [-1.5320986 , -1.44417625, -1.21259202, -1.88196426, -2.22916257,\n",
              "        -1.37036418],\n",
              "       [-0.32755211, -1.44417625, -0.23219847,  0.34128886,  0.35515471,\n",
              "        -0.21316776],\n",
              "       [-0.32755211,  0.42668844, -1.21259202, -0.7703377 , -1.36772348,\n",
              "        -0.21316776],\n",
              "       [ 0.87699437, -0.50874391,  0.74819508,  1.45291541,  1.21659381,\n",
              "         0.94402866],\n",
              "       [-0.32755211, -0.50874391,  0.74819508,  0.34128886,  0.35515471,\n",
              "        -0.21316776],\n",
              "       [ 0.87699437,  1.36212078,  1.72858863,  0.34128886,  1.21659381,\n",
              "        -0.21316776],\n",
              "       [-0.32755211,  0.42668844,  0.74819508,  0.34128886, -1.36772348,\n",
              "        -0.21316776],\n",
              "       [-0.32755211,  0.42668844, -0.23219847,  0.34128886, -1.36772348,\n",
              "        -0.21316776],\n",
              "       [-0.32755211,  1.36212078, -0.23219847,  0.34128886,  0.35515471,\n",
              "        -0.21316776],\n",
              "       [-1.5320986 ,  0.42668844, -2.19298557, -0.7703377 , -1.36772348,\n",
              "        -1.37036418],\n",
              "       [ 0.87699437,  1.36212078,  0.74819508, -0.7703377 , -0.50628438,\n",
              "        -0.21316776],\n",
              "       [-0.32755211,  1.36212078, -0.23219847,  0.34128886, -1.36772348,\n",
              "        -0.21316776],\n",
              "       [-1.5320986 , -1.44417625, -0.23219847, -1.88196426, -2.22916257,\n",
              "        -2.5275606 ],\n",
              "       [-1.5320986 , -0.50874391, -0.23219847,  1.45291541,  0.35515471,\n",
              "        -1.37036418],\n",
              "       [ 0.87699437,  1.36212078,  1.72858863,  1.45291541,  1.21659381,\n",
              "        -0.21316776],\n",
              "       [-1.5320986 ,  1.36212078,  0.74819508,  1.45291541, -2.22916257,\n",
              "        -1.37036418],\n",
              "       [-0.32755211, -1.44417625, -0.23219847,  0.34128886,  0.35515471,\n",
              "        -1.37036418],\n",
              "       [ 0.87699437,  1.36212078, -0.23219847, -0.7703377 , -0.50628438,\n",
              "         0.94402866],\n",
              "       [-0.32755211,  0.42668844, -0.23219847,  0.34128886,  0.35515471,\n",
              "         0.94402866],\n",
              "       [ 0.87699437, -1.44417625,  0.74819508, -0.7703377 ,  0.35515471,\n",
              "         0.94402866],\n",
              "       [ 0.87699437,  0.42668844,  0.74819508, -0.7703377 ,  0.35515471,\n",
              "         0.94402866],\n",
              "       [ 0.87699437,  2.29755312, -0.23219847,  1.45291541,  1.21659381,\n",
              "         0.94402866],\n",
              "       [ 0.87699437, -1.44417625, -0.23219847, -0.7703377 ,  0.35515471,\n",
              "        -0.21316776],\n",
              "       [-0.32755211,  1.36212078,  0.74819508,  0.34128886, -2.22916257,\n",
              "        -1.37036418],\n",
              "       [ 0.87699437, -0.50874391, -0.23219847,  0.34128886,  0.35515471,\n",
              "         0.94402866],\n",
              "       [-1.5320986 ,  0.42668844, -0.23219847,  0.34128886, -1.36772348,\n",
              "        -0.21316776],\n",
              "       [-1.5320986 , -0.50874391,  0.74819508,  0.34128886,  0.35515471,\n",
              "         0.94402866],\n",
              "       [-1.5320986 ,  0.42668844, -2.19298557, -0.7703377 , -0.50628438,\n",
              "        -0.21316776],\n",
              "       [ 0.87699437, -0.50874391,  0.74819508, -0.7703377 ,  0.35515471,\n",
              "         0.94402866],\n",
              "       [-0.32755211,  0.42668844, -0.23219847,  0.34128886, -0.50628438,\n",
              "        -0.21316776],\n",
              "       [-1.5320986 , -0.50874391,  0.74819508,  0.34128886,  0.35515471,\n",
              "         0.94402866],\n",
              "       [-0.32755211,  0.42668844,  1.72858863,  1.45291541,  1.21659381,\n",
              "        -0.21316776],\n",
              "       [-0.32755211, -0.50874391, -1.21259202,  0.34128886,  0.35515471,\n",
              "         0.94402866],\n",
              "       [ 0.87699437,  0.42668844, -0.23219847, -0.7703377 ,  1.21659381,\n",
              "        -1.37036418],\n",
              "       [ 0.87699437,  2.29755312,  1.72858863,  1.45291541,  1.21659381,\n",
              "         0.94402866],\n",
              "       [-0.32755211,  0.42668844, -1.21259202,  0.34128886, -0.50628438,\n",
              "        -0.21316776],\n",
              "       [ 0.87699437,  0.42668844,  0.74819508,  0.34128886,  0.35515471,\n",
              "        -0.21316776],\n",
              "       [ 0.87699437, -0.50874391,  0.74819508,  0.34128886,  1.21659381,\n",
              "         0.94402866],\n",
              "       [-0.32755211,  0.42668844, -0.23219847, -0.7703377 ,  0.35515471,\n",
              "        -0.21316776],\n",
              "       [ 0.87699437,  0.42668844,  1.72858863,  0.34128886,  1.21659381,\n",
              "         0.94402866],\n",
              "       [-0.32755211, -1.44417625, -0.23219847, -0.7703377 ,  0.35515471,\n",
              "        -1.37036418],\n",
              "       [-1.5320986 ,  0.42668844, -1.21259202,  0.34128886,  0.35515471,\n",
              "        -0.21316776],\n",
              "       [-0.32755211, -0.50874391,  0.74819508,  0.34128886,  0.35515471,\n",
              "        -0.21316776],\n",
              "       [-1.5320986 ,  0.42668844, -2.19298557, -0.7703377 , -0.50628438,\n",
              "        -0.21316776],\n",
              "       [ 0.87699437,  0.42668844, -0.23219847,  0.34128886,  0.35515471,\n",
              "         0.94402866],\n",
              "       [ 0.87699437, -1.44417625,  0.74819508,  0.34128886,  0.35515471,\n",
              "         0.94402866],\n",
              "       [ 0.87699437, -1.44417625, -0.23219847,  0.34128886,  1.21659381,\n",
              "         0.94402866],\n",
              "       [-1.5320986 , -0.50874391, -0.23219847, -0.7703377 ,  0.35515471,\n",
              "        -0.21316776],\n",
              "       [-0.32755211,  0.42668844, -0.23219847, -0.7703377 , -0.50628438,\n",
              "         0.94402866],\n",
              "       [ 0.87699437,  0.42668844, -1.21259202,  1.45291541,  1.21659381,\n",
              "         0.94402866],\n",
              "       [ 0.87699437, -0.50874391, -0.23219847, -0.7703377 , -1.36772348,\n",
              "         0.94402866],\n",
              "       [-0.32755211, -1.44417625, -0.23219847,  0.34128886,  0.35515471,\n",
              "        -0.21316776],\n",
              "       [-0.32755211, -0.50874391,  0.74819508,  0.34128886,  0.35515471,\n",
              "        -0.21316776],\n",
              "       [ 0.87699437,  0.42668844, -0.23219847,  0.34128886, -0.50628438,\n",
              "        -1.37036418],\n",
              "       [-0.32755211,  0.42668844,  0.74819508,  0.34128886, -0.50628438,\n",
              "        -0.21316776],\n",
              "       [-0.32755211, -0.50874391, -0.23219847, -0.7703377 ,  0.35515471,\n",
              "        -0.21316776],\n",
              "       [ 0.87699437,  0.42668844, -0.23219847, -2.99359082, -0.50628438,\n",
              "         0.94402866],\n",
              "       [ 0.87699437, -1.44417625,  1.72858863,  1.45291541,  1.21659381,\n",
              "         0.94402866],\n",
              "       [-0.32755211,  2.29755312,  1.72858863,  1.45291541, -2.22916257,\n",
              "        -1.37036418],\n",
              "       [-0.32755211,  0.42668844, -0.23219847, -0.7703377 , -0.50628438,\n",
              "        -0.21316776],\n",
              "       [-0.32755211, -0.50874391, -0.23219847, -0.7703377 ,  0.35515471,\n",
              "        -0.21316776],\n",
              "       [ 0.87699437, -0.50874391,  1.72858863,  1.45291541,  1.21659381,\n",
              "         0.94402866],\n",
              "       [ 0.87699437, -1.44417625,  1.72858863,  1.45291541,  1.21659381,\n",
              "         0.94402866],\n",
              "       [ 0.87699437,  2.29755312, -2.19298557, -2.99359082,  1.21659381,\n",
              "        -3.68475702],\n",
              "       [ 0.87699437,  0.42668844,  0.74819508, -0.7703377 ,  0.35515471,\n",
              "         0.94402866],\n",
              "       [-0.32755211,  0.42668844, -1.21259202,  0.34128886, -0.50628438,\n",
              "        -0.21316776],\n",
              "       [-1.5320986 ,  0.42668844, -0.23219847, -0.7703377 , -0.50628438,\n",
              "        -0.21316776],\n",
              "       [-1.5320986 ,  0.42668844, -0.23219847,  1.45291541,  0.35515471,\n",
              "        -1.37036418],\n",
              "       [-0.32755211,  0.42668844, -1.21259202,  0.34128886,  0.35515471,\n",
              "        -0.21316776],\n",
              "       [-0.32755211, -1.44417625, -0.23219847, -2.99359082, -2.22916257,\n",
              "        -0.21316776],\n",
              "       [-0.32755211, -0.50874391, -0.23219847, -0.7703377 ,  0.35515471,\n",
              "        -0.21316776],\n",
              "       [-0.32755211,  1.36212078,  0.74819508, -1.88196426,  1.21659381,\n",
              "         0.94402866],\n",
              "       [ 0.87699437,  1.36212078,  0.74819508,  0.34128886,  0.35515471,\n",
              "         0.94402866],\n",
              "       [ 0.87699437,  2.29755312,  1.72858863, -1.88196426,  1.21659381,\n",
              "         0.94402866],\n",
              "       [-0.32755211, -1.44417625, -0.23219847,  1.45291541, -0.50628438,\n",
              "         0.94402866],\n",
              "       [-1.5320986 , -1.44417625, -1.21259202,  0.34128886, -0.50628438,\n",
              "         0.94402866]])"
            ]
          },
          "metadata": {},
          "execution_count": 19
        }
      ]
    },
    {
      "cell_type": "code",
      "source": [
        "X_test"
      ],
      "metadata": {
        "colab": {
          "base_uri": "https://localhost:8080/"
        },
        "id": "3vhDPuUdrusK",
        "outputId": "23f1aecf-a63f-406f-ede0-dbb593b586f2"
      },
      "execution_count": 20,
      "outputs": [
        {
          "output_type": "execute_result",
          "data": {
            "text/plain": [
              "array([[ 0.87699437, -0.50874391, -0.23219847, -0.7703377 ,  0.35515471,\n",
              "         0.94402866],\n",
              "       [ 0.87699437, -1.44417625,  0.74819508, -0.7703377 ,  1.21659381,\n",
              "         0.94402866],\n",
              "       [ 0.87699437,  0.42668844,  0.74819508,  1.45291541,  0.35515471,\n",
              "         0.94402866],\n",
              "       [ 0.87699437, -0.50874391,  0.74819508, -0.7703377 ,  0.35515471,\n",
              "         0.94402866],\n",
              "       [-0.32755211,  0.42668844,  1.72858863,  1.45291541,  1.21659381,\n",
              "        -0.21316776],\n",
              "       [ 0.87699437,  1.36212078,  0.74819508,  0.34128886,  0.35515471,\n",
              "         0.94402866],\n",
              "       [-0.32755211, -0.50874391, -0.23219847,  0.34128886, -0.50628438,\n",
              "        -1.37036418],\n",
              "       [-0.32755211,  0.42668844, -0.23219847,  0.34128886,  0.35515471,\n",
              "        -0.21316776],\n",
              "       [ 0.87699437, -0.50874391, -1.21259202,  0.34128886,  0.35515471,\n",
              "         0.94402866],\n",
              "       [ 0.87699437,  2.29755312, -0.23219847,  0.34128886,  0.35515471,\n",
              "         0.94402866],\n",
              "       [-0.32755211, -1.44417625, -0.23219847,  0.34128886,  0.35515471,\n",
              "        -1.37036418],\n",
              "       [-1.5320986 , -0.50874391, -0.23219847, -0.7703377 ,  1.21659381,\n",
              "        -0.21316776],\n",
              "       [-0.32755211, -1.44417625,  0.74819508,  0.34128886,  0.35515471,\n",
              "        -0.21316776],\n",
              "       [ 0.87699437,  1.36212078, -1.21259202,  0.34128886, -0.50628438,\n",
              "         0.94402866],\n",
              "       [ 0.87699437,  0.42668844, -0.23219847,  0.34128886,  0.35515471,\n",
              "         0.94402866],\n",
              "       [-0.32755211, -1.44417625, -0.23219847,  0.34128886,  0.35515471,\n",
              "         0.94402866],\n",
              "       [ 0.87699437, -0.50874391, -0.23219847,  1.45291541,  1.21659381,\n",
              "         0.94402866],\n",
              "       [ 0.87699437, -1.44417625,  1.72858863, -0.7703377 ,  1.21659381,\n",
              "         0.94402866],\n",
              "       [-0.32755211, -1.44417625, -0.23219847, -1.88196426,  0.35515471,\n",
              "        -0.21316776],\n",
              "       [ 0.87699437, -1.44417625, -1.21259202,  1.45291541, -1.36772348,\n",
              "        -0.21316776],\n",
              "       [-0.32755211,  1.36212078, -0.23219847, -0.7703377 , -1.36772348,\n",
              "         0.94402866],\n",
              "       [ 0.87699437,  2.29755312,  1.72858863,  1.45291541,  1.21659381,\n",
              "         0.94402866],\n",
              "       [-0.32755211,  1.36212078,  0.74819508,  0.34128886, -0.50628438,\n",
              "        -0.21316776],\n",
              "       [-1.5320986 ,  1.36212078, -0.23219847, -0.7703377 , -1.36772348,\n",
              "        -1.37036418],\n",
              "       [ 0.87699437, -0.50874391,  0.74819508, -1.88196426, -1.36772348,\n",
              "        -0.21316776],\n",
              "       [ 0.87699437, -1.44417625, -1.21259202,  0.34128886,  0.35515471,\n",
              "         0.94402866],\n",
              "       [ 0.87699437,  0.42668844,  0.74819508, -0.7703377 ,  0.35515471,\n",
              "        -1.37036418],\n",
              "       [-0.32755211,  1.36212078, -0.23219847,  0.34128886, -0.50628438,\n",
              "        -1.37036418],\n",
              "       [-0.32755211, -0.50874391,  0.74819508, -0.7703377 , -1.36772348,\n",
              "        -0.21316776]])"
            ]
          },
          "metadata": {},
          "execution_count": 20
        }
      ]
    },
    {
      "cell_type": "markdown",
      "source": [
        "# Random Forest\n"
      ],
      "metadata": {
        "id": "WmT8MUSKETyn"
      }
    },
    {
      "cell_type": "markdown",
      "source": [
        "## Making A Model"
      ],
      "metadata": {
        "id": "Fo1xTnCmsAAR"
      }
    },
    {
      "cell_type": "code",
      "source": [
        "from sklearn.ensemble import RandomForestClassifier\n",
        "classifier = RandomForestClassifier(n_estimators = 10, criterion = 'entropy', random_state = 0)\n",
        "classifier.fit(X_train, y_train)"
      ],
      "metadata": {
        "colab": {
          "base_uri": "https://localhost:8080/",
          "height": 74
        },
        "id": "1Nnq8VghryAr",
        "outputId": "fafc657b-cedd-4be3-cf4a-2bf66c5dc39a"
      },
      "execution_count": 21,
      "outputs": [
        {
          "output_type": "execute_result",
          "data": {
            "text/plain": [
              "RandomForestClassifier(criterion='entropy', n_estimators=10, random_state=0)"
            ],
            "text/html": [
              "<style>#sk-container-id-1 {color: black;background-color: white;}#sk-container-id-1 pre{padding: 0;}#sk-container-id-1 div.sk-toggleable {background-color: white;}#sk-container-id-1 label.sk-toggleable__label {cursor: pointer;display: block;width: 100%;margin-bottom: 0;padding: 0.3em;box-sizing: border-box;text-align: center;}#sk-container-id-1 label.sk-toggleable__label-arrow:before {content: \"▸\";float: left;margin-right: 0.25em;color: #696969;}#sk-container-id-1 label.sk-toggleable__label-arrow:hover:before {color: black;}#sk-container-id-1 div.sk-estimator:hover label.sk-toggleable__label-arrow:before {color: black;}#sk-container-id-1 div.sk-toggleable__content {max-height: 0;max-width: 0;overflow: hidden;text-align: left;background-color: #f0f8ff;}#sk-container-id-1 div.sk-toggleable__content pre {margin: 0.2em;color: black;border-radius: 0.25em;background-color: #f0f8ff;}#sk-container-id-1 input.sk-toggleable__control:checked~div.sk-toggleable__content {max-height: 200px;max-width: 100%;overflow: auto;}#sk-container-id-1 input.sk-toggleable__control:checked~label.sk-toggleable__label-arrow:before {content: \"▾\";}#sk-container-id-1 div.sk-estimator input.sk-toggleable__control:checked~label.sk-toggleable__label {background-color: #d4ebff;}#sk-container-id-1 div.sk-label input.sk-toggleable__control:checked~label.sk-toggleable__label {background-color: #d4ebff;}#sk-container-id-1 input.sk-hidden--visually {border: 0;clip: rect(1px 1px 1px 1px);clip: rect(1px, 1px, 1px, 1px);height: 1px;margin: -1px;overflow: hidden;padding: 0;position: absolute;width: 1px;}#sk-container-id-1 div.sk-estimator {font-family: monospace;background-color: #f0f8ff;border: 1px dotted black;border-radius: 0.25em;box-sizing: border-box;margin-bottom: 0.5em;}#sk-container-id-1 div.sk-estimator:hover {background-color: #d4ebff;}#sk-container-id-1 div.sk-parallel-item::after {content: \"\";width: 100%;border-bottom: 1px solid gray;flex-grow: 1;}#sk-container-id-1 div.sk-label:hover label.sk-toggleable__label {background-color: #d4ebff;}#sk-container-id-1 div.sk-serial::before {content: \"\";position: absolute;border-left: 1px solid gray;box-sizing: border-box;top: 0;bottom: 0;left: 50%;z-index: 0;}#sk-container-id-1 div.sk-serial {display: flex;flex-direction: column;align-items: center;background-color: white;padding-right: 0.2em;padding-left: 0.2em;position: relative;}#sk-container-id-1 div.sk-item {position: relative;z-index: 1;}#sk-container-id-1 div.sk-parallel {display: flex;align-items: stretch;justify-content: center;background-color: white;position: relative;}#sk-container-id-1 div.sk-item::before, #sk-container-id-1 div.sk-parallel-item::before {content: \"\";position: absolute;border-left: 1px solid gray;box-sizing: border-box;top: 0;bottom: 0;left: 50%;z-index: -1;}#sk-container-id-1 div.sk-parallel-item {display: flex;flex-direction: column;z-index: 1;position: relative;background-color: white;}#sk-container-id-1 div.sk-parallel-item:first-child::after {align-self: flex-end;width: 50%;}#sk-container-id-1 div.sk-parallel-item:last-child::after {align-self: flex-start;width: 50%;}#sk-container-id-1 div.sk-parallel-item:only-child::after {width: 0;}#sk-container-id-1 div.sk-dashed-wrapped {border: 1px dashed gray;margin: 0 0.4em 0.5em 0.4em;box-sizing: border-box;padding-bottom: 0.4em;background-color: white;}#sk-container-id-1 div.sk-label label {font-family: monospace;font-weight: bold;display: inline-block;line-height: 1.2em;}#sk-container-id-1 div.sk-label-container {text-align: center;}#sk-container-id-1 div.sk-container {/* jupyter's `normalize.less` sets `[hidden] { display: none; }` but bootstrap.min.css set `[hidden] { display: none !important; }` so we also need the `!important` here to be able to override the default hidden behavior on the sphinx rendered scikit-learn.org. See: https://github.com/scikit-learn/scikit-learn/issues/21755 */display: inline-block !important;position: relative;}#sk-container-id-1 div.sk-text-repr-fallback {display: none;}</style><div id=\"sk-container-id-1\" class=\"sk-top-container\"><div class=\"sk-text-repr-fallback\"><pre>RandomForestClassifier(criterion=&#x27;entropy&#x27;, n_estimators=10, random_state=0)</pre><b>In a Jupyter environment, please rerun this cell to show the HTML representation or trust the notebook. <br />On GitHub, the HTML representation is unable to render, please try loading this page with nbviewer.org.</b></div><div class=\"sk-container\" hidden><div class=\"sk-item\"><div class=\"sk-estimator sk-toggleable\"><input class=\"sk-toggleable__control sk-hidden--visually\" id=\"sk-estimator-id-1\" type=\"checkbox\" checked><label for=\"sk-estimator-id-1\" class=\"sk-toggleable__label sk-toggleable__label-arrow\">RandomForestClassifier</label><div class=\"sk-toggleable__content\"><pre>RandomForestClassifier(criterion=&#x27;entropy&#x27;, n_estimators=10, random_state=0)</pre></div></div></div></div></div>"
            ]
          },
          "metadata": {},
          "execution_count": 21
        }
      ]
    },
    {
      "cell_type": "markdown",
      "source": [
        "## Predicting Result"
      ],
      "metadata": {
        "id": "5qxu8skjy9E5"
      }
    },
    {
      "cell_type": "code",
      "source": [
        "y_pred = classifier.predict(X_test)\n",
        "print(np.concatenate((y_pred.reshape(len(y_pred),1), y_test.reshape(len(y_test),1)),1))"
      ],
      "metadata": {
        "colab": {
          "base_uri": "https://localhost:8080/"
        },
        "id": "gbNu5AMJyqHT",
        "outputId": "a9a63f80-eee0-4deb-eaca-b37bdad2aa62"
      },
      "execution_count": 22,
      "outputs": [
        {
          "output_type": "stream",
          "name": "stdout",
          "text": [
            "[[1 0]\n",
            " [1 1]\n",
            " [1 0]\n",
            " [1 1]\n",
            " [0 0]\n",
            " [1 1]\n",
            " [0 1]\n",
            " [0 1]\n",
            " [1 0]\n",
            " [1 1]\n",
            " [0 0]\n",
            " [0 0]\n",
            " [0 0]\n",
            " [0 0]\n",
            " [1 1]\n",
            " [0 0]\n",
            " [1 1]\n",
            " [1 1]\n",
            " [0 0]\n",
            " [0 1]\n",
            " [0 1]\n",
            " [1 1]\n",
            " [1 0]\n",
            " [0 0]\n",
            " [0 1]\n",
            " [1 0]\n",
            " [1 1]\n",
            " [0 0]\n",
            " [0 1]]\n"
          ]
        }
      ]
    },
    {
      "cell_type": "markdown",
      "source": [
        "## Confusion Matrix"
      ],
      "metadata": {
        "id": "U4HcyM9PzEzO"
      }
    },
    {
      "cell_type": "code",
      "source": [
        "from sklearn.metrics import confusion_matrix, accuracy_score\n",
        "cm = confusion_matrix(y_test, y_pred)\n",
        "sns.heatmap(cm, annot=True, cmap=\"YlGnBu\")"
      ],
      "metadata": {
        "colab": {
          "base_uri": "https://localhost:8080/",
          "height": 452
        },
        "id": "0KwIXuNRzAIg",
        "outputId": "1c42c366-8512-4b10-b93f-eb4662a60b51"
      },
      "execution_count": 23,
      "outputs": [
        {
          "output_type": "execute_result",
          "data": {
            "text/plain": [
              "<Axes: >"
            ]
          },
          "metadata": {},
          "execution_count": 23
        },
        {
          "output_type": "display_data",
          "data": {
            "text/plain": [
              "<Figure size 640x480 with 2 Axes>"
            ],
            "image/png": "[encoded data removed]"
          },
          "metadata": {}
        }
      ]
    },
    {
      "cell_type": "markdown",
      "source": [
        "## Accuracy"
      ],
      "metadata": {
        "id": "0Z_NuJeZFQmX"
      }
    },
    {
      "cell_type": "code",
      "source": [
        "print(f\"Accuracy : {accuracy_score(y_test, y_pred)}\")"
      ],
      "metadata": {
        "colab": {
          "base_uri": "https://localhost:8080/"
        },
        "id": "oFR__50SzHO_",
        "outputId": "83f1914b-bd14-4dc7-80ee-7841aa0a3be6"
      },
      "execution_count": 24,
      "outputs": [
        {
          "output_type": "stream",
          "name": "stdout",
          "text": [
            "Accuracy : 0.6206896551724138\n"
          ]
        }
      ]
    },
    {
      "cell_type": "markdown",
      "source": [
        "# K-Nearest Neighbor"
      ],
      "metadata": {
        "id": "3M5Hzu1cEim-"
      }
    },
    {
      "cell_type": "markdown",
      "source": [
        "## Making A Model"
      ],
      "metadata": {
        "id": "x6M6_t0PE9bP"
      }
    },
    {
      "cell_type": "code",
      "source": [
        "from sklearn.neighbors import KNeighborsClassifier\n",
        "classifier = KNeighborsClassifier(n_neighbors = 5, metric = 'minkowski', p = 2)\n",
        "classifier.fit(X_train, y_train)"
      ],
      "metadata": {
        "id": "5opz-QBi0xT_",
        "colab": {
          "base_uri": "https://localhost:8080/",
          "height": 74
        },
        "outputId": "b48e95f1-d45f-475a-bebf-79c0aa655ab8"
      },
      "execution_count": 25,
      "outputs": [
        {
          "output_type": "execute_result",
          "data": {
            "text/plain": [
              "KNeighborsClassifier()"
            ],
            "text/html": [
              "<style>#sk-container-id-2 {color: black;background-color: white;}#sk-container-id-2 pre{padding: 0;}#sk-container-id-2 div.sk-toggleable {background-color: white;}#sk-container-id-2 label.sk-toggleable__label {cursor: pointer;display: block;width: 100%;margin-bottom: 0;padding: 0.3em;box-sizing: border-box;text-align: center;}#sk-container-id-2 label.sk-toggleable__label-arrow:before {content: \"▸\";float: left;margin-right: 0.25em;color: #696969;}#sk-container-id-2 label.sk-toggleable__label-arrow:hover:before {color: black;}#sk-container-id-2 div.sk-estimator:hover label.sk-toggleable__label-arrow:before {color: black;}#sk-container-id-2 div.sk-toggleable__content {max-height: 0;max-width: 0;overflow: hidden;text-align: left;background-color: #f0f8ff;}#sk-container-id-2 div.sk-toggleable__content pre {margin: 0.2em;color: black;border-radius: 0.25em;background-color: #f0f8ff;}#sk-container-id-2 input.sk-toggleable__control:checked~div.sk-toggleable__content {max-height: 200px;max-width: 100%;overflow: auto;}#sk-container-id-2 input.sk-toggleable__control:checked~label.sk-toggleable__label-arrow:before {content: \"▾\";}#sk-container-id-2 div.sk-estimator input.sk-toggleable__control:checked~label.sk-toggleable__label {background-color: #d4ebff;}#sk-container-id-2 div.sk-label input.sk-toggleable__control:checked~label.sk-toggleable__label {background-color: #d4ebff;}#sk-container-id-2 input.sk-hidden--visually {border: 0;clip: rect(1px 1px 1px 1px);clip: rect(1px, 1px, 1px, 1px);height: 1px;margin: -1px;overflow: hidden;padding: 0;position: absolute;width: 1px;}#sk-container-id-2 div.sk-estimator {font-family: monospace;background-color: #f0f8ff;border: 1px dotted black;border-radius: 0.25em;box-sizing: border-box;margin-bottom: 0.5em;}#sk-container-id-2 div.sk-estimator:hover {background-color: #d4ebff;}#sk-container-id-2 div.sk-parallel-item::after {content: \"\";width: 100%;border-bottom: 1px solid gray;flex-grow: 1;}#sk-container-id-2 div.sk-label:hover label.sk-toggleable__label {background-color: #d4ebff;}#sk-container-id-2 div.sk-serial::before {content: \"\";position: absolute;border-left: 1px solid gray;box-sizing: border-box;top: 0;bottom: 0;left: 50%;z-index: 0;}#sk-container-id-2 div.sk-serial {display: flex;flex-direction: column;align-items: center;background-color: white;padding-right: 0.2em;padding-left: 0.2em;position: relative;}#sk-container-id-2 div.sk-item {position: relative;z-index: 1;}#sk-container-id-2 div.sk-parallel {display: flex;align-items: stretch;justify-content: center;background-color: white;position: relative;}#sk-container-id-2 div.sk-item::before, #sk-container-id-2 div.sk-parallel-item::before {content: \"\";position: absolute;border-left: 1px solid gray;box-sizing: border-box;top: 0;bottom: 0;left: 50%;z-index: -1;}#sk-container-id-2 div.sk-parallel-item {display: flex;flex-direction: column;z-index: 1;position: relative;background-color: white;}#sk-container-id-2 div.sk-parallel-item:first-child::after {align-self: flex-end;width: 50%;}#sk-container-id-2 div.sk-parallel-item:last-child::after {align-self: flex-start;width: 50%;}#sk-container-id-2 div.sk-parallel-item:only-child::after {width: 0;}#sk-container-id-2 div.sk-dashed-wrapped {border: 1px dashed gray;margin: 0 0.4em 0.5em 0.4em;box-sizing: border-box;padding-bottom: 0.4em;background-color: white;}#sk-container-id-2 div.sk-label label {font-family: monospace;font-weight: bold;display: inline-block;line-height: 1.2em;}#sk-container-id-2 div.sk-label-container {text-align: center;}#sk-container-id-2 div.sk-container {/* jupyter's `normalize.less` sets `[hidden] { display: none; }` but bootstrap.min.css set `[hidden] { display: none !important; }` so we also need the `!important` here to be able to override the default hidden behavior on the sphinx rendered scikit-learn.org. See: https://github.com/scikit-learn/scikit-learn/issues/21755 */display: inline-block !important;position: relative;}#sk-container-id-2 div.sk-text-repr-fallback {display: none;}</style><div id=\"sk-container-id-2\" class=\"sk-top-container\"><div class=\"sk-text-repr-fallback\"><pre>KNeighborsClassifier()</pre><b>In a Jupyter environment, please rerun this cell to show the HTML representation or trust the notebook. <br />On GitHub, the HTML representation is unable to render, please try loading this page with nbviewer.org.</b></div><div class=\"sk-container\" hidden><div class=\"sk-item\"><div class=\"sk-estimator sk-toggleable\"><input class=\"sk-toggleable__control sk-hidden--visually\" id=\"sk-estimator-id-2\" type=\"checkbox\" checked><label for=\"sk-estimator-id-2\" class=\"sk-toggleable__label sk-toggleable__label-arrow\">KNeighborsClassifier</label><div class=\"sk-toggleable__content\"><pre>KNeighborsClassifier()</pre></div></div></div></div></div>"
            ]
          },
          "metadata": {},
          "execution_count": 25
        }
      ]
    },
    {
      "cell_type": "markdown",
      "source": [
        "## Predicting Result"
      ],
      "metadata": {
        "id": "Lb7PhKwBFH4O"
      }
    },
    {
      "cell_type": "code",
      "source": [
        "y_pred = classifier.predict(X_test)\n",
        "print(np.concatenate((y_pred.reshape(len(y_pred),1), y_test.reshape(len(y_test),1)),1))"
      ],
      "metadata": {
        "colab": {
          "base_uri": "https://localhost:8080/"
        },
        "id": "bKV2yMBMFI5l",
        "outputId": "d8cdb054-b087-4f11-d077-2b78678abdd3"
      },
      "execution_count": 26,
      "outputs": [
        {
          "output_type": "stream",
          "name": "stdout",
          "text": [
            "[[1 0]\n",
            " [1 1]\n",
            " [1 0]\n",
            " [1 1]\n",
            " [1 0]\n",
            " [1 1]\n",
            " [0 1]\n",
            " [0 1]\n",
            " [1 0]\n",
            " [1 1]\n",
            " [1 0]\n",
            " [1 0]\n",
            " [1 0]\n",
            " [0 0]\n",
            " [1 1]\n",
            " [1 0]\n",
            " [1 1]\n",
            " [1 1]\n",
            " [0 0]\n",
            " [1 1]\n",
            " [0 1]\n",
            " [1 1]\n",
            " [1 0]\n",
            " [0 0]\n",
            " [0 1]\n",
            " [1 0]\n",
            " [0 1]\n",
            " [1 0]\n",
            " [0 1]]\n"
          ]
        }
      ]
    },
    {
      "cell_type": "markdown",
      "source": [
        "## Confusion Matrix"
      ],
      "metadata": {
        "id": "Gm9hyNijFJyS"
      }
    },
    {
      "cell_type": "code",
      "source": [
        "from sklearn.metrics import confusion_matrix, accuracy_score\n",
        "cm = confusion_matrix(y_test, y_pred)\n",
        "sns.heatmap(cm, annot=True, cmap=\"YlGnBu\")"
      ],
      "metadata": {
        "colab": {
          "base_uri": "https://localhost:8080/",
          "height": 452
        },
        "id": "uhqRV8hCFL73",
        "outputId": "f4a35417-96c5-4997-ec03-bb40953660a8"
      },
      "execution_count": 27,
      "outputs": [
        {
          "output_type": "execute_result",
          "data": {
            "text/plain": [
              "<Axes: >"
            ]
          },
          "metadata": {},
          "execution_count": 27
        },
        {
          "output_type": "display_data",
          "data": {
            "text/plain": [
              "<Figure size 640x480 with 2 Axes>"
            ],
            "image/png": "[encoded data removed]"
          },
          "metadata": {}
        }
      ]
    },
    {
      "cell_type": "markdown",
      "source": [
        "## Accuracy"
      ],
      "metadata": {
        "id": "SHOJQpbxFN92"
      }
    },
    {
      "cell_type": "code",
      "source": [
        "print(f\"Accuracy : {accuracy_score(y_test, y_pred)}\")"
      ],
      "metadata": {
        "colab": {
          "base_uri": "https://localhost:8080/"
        },
        "id": "PI2me2wcFUGY",
        "outputId": "aad1f629-f3cc-4682-e919-9b7aa9ba7991"
      },
      "execution_count": 28,
      "outputs": [
        {
          "output_type": "stream",
          "name": "stdout",
          "text": [
            "Accuracy : 0.41379310344827586\n"
          ]
        }
      ]
    },
    {
      "cell_type": "markdown",
      "source": [
        "# Decision Tree"
      ],
      "metadata": {
        "id": "MPpM_SLxGV0G"
      }
    },
    {
      "cell_type": "markdown",
      "source": [
        "## Making A Model"
      ],
      "metadata": {
        "id": "7XBxyRxZGYFI"
      }
    },
    {
      "cell_type": "code",
      "source": [
        "from sklearn.tree import DecisionTreeClassifier\n",
        "classifier = DecisionTreeClassifier(criterion = 'entropy', random_state = 0)\n",
        "classifier.fit(X_train, y_train)"
      ],
      "metadata": {
        "colab": {
          "base_uri": "https://localhost:8080/",
          "height": 74
        },
        "id": "lgeRbJHcGDVu",
        "outputId": "f5767552-10df-4509-b25a-fdab034c998b"
      },
      "execution_count": 29,
      "outputs": [
        {
          "output_type": "execute_result",
          "data": {
            "text/plain": [
              "DecisionTreeClassifier(criterion='entropy', random_state=0)"
            ],
            "text/html": [
              "<style>#sk-container-id-3 {color: black;background-color: white;}#sk-container-id-3 pre{padding: 0;}#sk-container-id-3 div.sk-toggleable {background-color: white;}#sk-container-id-3 label.sk-toggleable__label {cursor: pointer;display: block;width: 100%;margin-bottom: 0;padding: 0.3em;box-sizing: border-box;text-align: center;}#sk-container-id-3 label.sk-toggleable__label-arrow:before {content: \"▸\";float: left;margin-right: 0.25em;color: #696969;}#sk-container-id-3 label.sk-toggleable__label-arrow:hover:before {color: black;}#sk-container-id-3 div.sk-estimator:hover label.sk-toggleable__label-arrow:before {color: black;}#sk-container-id-3 div.sk-toggleable__content {max-height: 0;max-width: 0;overflow: hidden;text-align: left;background-color: #f0f8ff;}#sk-container-id-3 div.sk-toggleable__content pre {margin: 0.2em;color: black;border-radius: 0.25em;background-color: #f0f8ff;}#sk-container-id-3 input.sk-toggleable__control:checked~div.sk-toggleable__content {max-height: 200px;max-width: 100%;overflow: auto;}#sk-container-id-3 input.sk-toggleable__control:checked~label.sk-toggleable__label-arrow:before {content: \"▾\";}#sk-container-id-3 div.sk-estimator input.sk-toggleable__control:checked~label.sk-toggleable__label {background-color: #d4ebff;}#sk-container-id-3 div.sk-label input.sk-toggleable__control:checked~label.sk-toggleable__label {background-color: #d4ebff;}#sk-container-id-3 input.sk-hidden--visually {border: 0;clip: rect(1px 1px 1px 1px);clip: rect(1px, 1px, 1px, 1px);height: 1px;margin: -1px;overflow: hidden;padding: 0;position: absolute;width: 1px;}#sk-container-id-3 div.sk-estimator {font-family: monospace;background-color: #f0f8ff;border: 1px dotted black;border-radius: 0.25em;box-sizing: border-box;margin-bottom: 0.5em;}#sk-container-id-3 div.sk-estimator:hover {background-color: #d4ebff;}#sk-container-id-3 div.sk-parallel-item::after {content: \"\";width: 100%;border-bottom: 1px solid gray;flex-grow: 1;}#sk-container-id-3 div.sk-label:hover label.sk-toggleable__label {background-color: #d4ebff;}#sk-container-id-3 div.sk-serial::before {content: \"\";position: absolute;border-left: 1px solid gray;box-sizing: border-box;top: 0;bottom: 0;left: 50%;z-index: 0;}#sk-container-id-3 div.sk-serial {display: flex;flex-direction: column;align-items: center;background-color: white;padding-right: 0.2em;padding-left: 0.2em;position: relative;}#sk-container-id-3 div.sk-item {position: relative;z-index: 1;}#sk-container-id-3 div.sk-parallel {display: flex;align-items: stretch;justify-content: center;background-color: white;position: relative;}#sk-container-id-3 div.sk-item::before, #sk-container-id-3 div.sk-parallel-item::before {content: \"\";position: absolute;border-left: 1px solid gray;box-sizing: border-box;top: 0;bottom: 0;left: 50%;z-index: -1;}#sk-container-id-3 div.sk-parallel-item {display: flex;flex-direction: column;z-index: 1;position: relative;background-color: white;}#sk-container-id-3 div.sk-parallel-item:first-child::after {align-self: flex-end;width: 50%;}#sk-container-id-3 div.sk-parallel-item:last-child::after {align-self: flex-start;width: 50%;}#sk-container-id-3 div.sk-parallel-item:only-child::after {width: 0;}#sk-container-id-3 div.sk-dashed-wrapped {border: 1px dashed gray;margin: 0 0.4em 0.5em 0.4em;box-sizing: border-box;padding-bottom: 0.4em;background-color: white;}#sk-container-id-3 div.sk-label label {font-family: monospace;font-weight: bold;display: inline-block;line-height: 1.2em;}#sk-container-id-3 div.sk-label-container {text-align: center;}#sk-container-id-3 div.sk-container {/* jupyter's `normalize.less` sets `[hidden] { display: none; }` but bootstrap.min.css set `[hidden] { display: none !important; }` so we also need the `!important` here to be able to override the default hidden behavior on the sphinx rendered scikit-learn.org. See: https://github.com/scikit-learn/scikit-learn/issues/21755 */display: inline-block !important;position: relative;}#sk-container-id-3 div.sk-text-repr-fallback {display: none;}</style><div id=\"sk-container-id-3\" class=\"sk-top-container\"><div class=\"sk-text-repr-fallback\"><pre>DecisionTreeClassifier(criterion=&#x27;entropy&#x27;, random_state=0)</pre><b>In a Jupyter environment, please rerun this cell to show the HTML representation or trust the notebook. <br />On GitHub, the HTML representation is unable to render, please try loading this page with nbviewer.org.</b></div><div class=\"sk-container\" hidden><div class=\"sk-item\"><div class=\"sk-estimator sk-toggleable\"><input class=\"sk-toggleable__control sk-hidden--visually\" id=\"sk-estimator-id-3\" type=\"checkbox\" checked><label for=\"sk-estimator-id-3\" class=\"sk-toggleable__label sk-toggleable__label-arrow\">DecisionTreeClassifier</label><div class=\"sk-toggleable__content\"><pre>DecisionTreeClassifier(criterion=&#x27;entropy&#x27;, random_state=0)</pre></div></div></div></div></div>"
            ]
          },
          "metadata": {},
          "execution_count": 29
        }
      ]
    },
    {
      "cell_type": "markdown",
      "source": [
        "## Predicting Result"
      ],
      "metadata": {
        "id": "1-fVXwJcGfQ5"
      }
    },
    {
      "cell_type": "code",
      "source": [
        "y_pred = classifier.predict(X_test)\n",
        "print(np.concatenate((y_pred.reshape(len(y_pred),1), y_test.reshape(len(y_test),1)),1))"
      ],
      "metadata": {
        "colab": {
          "base_uri": "https://localhost:8080/"
        },
        "id": "HosuHkTAGDtw",
        "outputId": "8ef90790-1bd6-4d41-937f-6fff5603d553"
      },
      "execution_count": 30,
      "outputs": [
        {
          "output_type": "stream",
          "name": "stdout",
          "text": [
            "[[1 0]\n",
            " [1 1]\n",
            " [1 0]\n",
            " [1 1]\n",
            " [0 0]\n",
            " [1 1]\n",
            " [0 1]\n",
            " [1 1]\n",
            " [1 0]\n",
            " [1 1]\n",
            " [0 0]\n",
            " [0 0]\n",
            " [1 0]\n",
            " [0 0]\n",
            " [0 1]\n",
            " [1 0]\n",
            " [1 1]\n",
            " [1 1]\n",
            " [0 0]\n",
            " [1 1]\n",
            " [1 1]\n",
            " [1 1]\n",
            " [0 0]\n",
            " [1 0]\n",
            " [1 1]\n",
            " [1 0]\n",
            " [1 1]\n",
            " [0 0]\n",
            " [0 1]]\n"
          ]
        }
      ]
    },
    {
      "cell_type": "markdown",
      "source": [
        "## Confusion Matrix"
      ],
      "metadata": {
        "id": "hPTsDCTYGiIF"
      }
    },
    {
      "cell_type": "code",
      "source": [
        "from sklearn.metrics import confusion_matrix, accuracy_score\n",
        "cm = confusion_matrix(y_test, y_pred)\n",
        "sns.heatmap(cm, annot=True, cmap=\"YlGnBu\")"
      ],
      "metadata": {
        "colab": {
          "base_uri": "https://localhost:8080/",
          "height": 452
        },
        "id": "1zBwgps4GHGw",
        "outputId": "c70900ad-022e-44ae-b45c-d945bb2b78cf"
      },
      "execution_count": 31,
      "outputs": [
        {
          "output_type": "execute_result",
          "data": {
            "text/plain": [
              "<Axes: >"
            ]
          },
          "metadata": {},
          "execution_count": 31
        },
        {
          "output_type": "display_data",
          "data": {
            "text/plain": [
              "<Figure size 640x480 with 2 Axes>"
            ],
            "image/png": "[encoded data removed]"
          },
          "metadata": {}
        }
      ]
    },
    {
      "cell_type": "markdown",
      "source": [
        "## Accuracy"
      ],
      "metadata": {
        "id": "-hArAGpRGlFG"
      }
    },
    {
      "cell_type": "code",
      "source": [
        "print(f\"Accuracy : {accuracy_score(y_test, y_pred)}\")"
      ],
      "metadata": {
        "colab": {
          "base_uri": "https://localhost:8080/"
        },
        "id": "jSANap4wGLqY",
        "outputId": "2981d417-b855-4d3b-9304-c8bbc290aaa6"
      },
      "execution_count": 32,
      "outputs": [
        {
          "output_type": "stream",
          "name": "stdout",
          "text": [
            "Accuracy : 0.6551724137931034\n"
          ]
        }
      ]
    },
    {
      "cell_type": "markdown",
      "source": [
        "# Logistic Regression"
      ],
      "metadata": {
        "id": "h9VGfaADGq4O"
      }
    },
    {
      "cell_type": "markdown",
      "source": [
        "## Making A Model"
      ],
      "metadata": {
        "id": "-eQO5ouXHWO9"
      }
    },
    {
      "cell_type": "code",
      "source": [
        "from sklearn.linear_model import LogisticRegression\n",
        "classifier = LogisticRegression(random_state = 0)\n",
        "classifier.fit(X_train, y_train)"
      ],
      "metadata": {
        "colab": {
          "base_uri": "https://localhost:8080/",
          "height": 74
        },
        "id": "uA7pTdB1GPb4",
        "outputId": "4debfd46-4d54-40a9-dd5d-dd9d5732c40b"
      },
      "execution_count": 33,
      "outputs": [
        {
          "output_type": "execute_result",
          "data": {
            "text/plain": [
              "LogisticRegression(random_state=0)"
            ],
            "text/html": [
              "<style>#sk-container-id-4 {color: black;background-color: white;}#sk-container-id-4 pre{padding: 0;}#sk-container-id-4 div.sk-toggleable {background-color: white;}#sk-container-id-4 label.sk-toggleable__label {cursor: pointer;display: block;width: 100%;margin-bottom: 0;padding: 0.3em;box-sizing: border-box;text-align: center;}#sk-container-id-4 label.sk-toggleable__label-arrow:before {content: \"▸\";float: left;margin-right: 0.25em;color: #696969;}#sk-container-id-4 label.sk-toggleable__label-arrow:hover:before {color: black;}#sk-container-id-4 div.sk-estimator:hover label.sk-toggleable__label-arrow:before {color: black;}#sk-container-id-4 div.sk-toggleable__content {max-height: 0;max-width: 0;overflow: hidden;text-align: left;background-color: #f0f8ff;}#sk-container-id-4 div.sk-toggleable__content pre {margin: 0.2em;color: black;border-radius: 0.25em;background-color: #f0f8ff;}#sk-container-id-4 input.sk-toggleable__control:checked~div.sk-toggleable__content {max-height: 200px;max-width: 100%;overflow: auto;}#sk-container-id-4 input.sk-toggleable__control:checked~label.sk-toggleable__label-arrow:before {content: \"▾\";}#sk-container-id-4 div.sk-estimator input.sk-toggleable__control:checked~label.sk-toggleable__label {background-color: #d4ebff;}#sk-container-id-4 div.sk-label input.sk-toggleable__control:checked~label.sk-toggleable__label {background-color: #d4ebff;}#sk-container-id-4 input.sk-hidden--visually {border: 0;clip: rect(1px 1px 1px 1px);clip: rect(1px, 1px, 1px, 1px);height: 1px;margin: -1px;overflow: hidden;padding: 0;position: absolute;width: 1px;}#sk-container-id-4 div.sk-estimator {font-family: monospace;background-color: #f0f8ff;border: 1px dotted black;border-radius: 0.25em;box-sizing: border-box;margin-bottom: 0.5em;}#sk-container-id-4 div.sk-estimator:hover {background-color: #d4ebff;}#sk-container-id-4 div.sk-parallel-item::after {content: \"\";width: 100%;border-bottom: 1px solid gray;flex-grow: 1;}#sk-container-id-4 div.sk-label:hover label.sk-toggleable__label {background-color: #d4ebff;}#sk-container-id-4 div.sk-serial::before {content: \"\";position: absolute;border-left: 1px solid gray;box-sizing: border-box;top: 0;bottom: 0;left: 50%;z-index: 0;}#sk-container-id-4 div.sk-serial {display: flex;flex-direction: column;align-items: center;background-color: white;padding-right: 0.2em;padding-left: 0.2em;position: relative;}#sk-container-id-4 div.sk-item {position: relative;z-index: 1;}#sk-container-id-4 div.sk-parallel {display: flex;align-items: stretch;justify-content: center;background-color: white;position: relative;}#sk-container-id-4 div.sk-item::before, #sk-container-id-4 div.sk-parallel-item::before {content: \"\";position: absolute;border-left: 1px solid gray;box-sizing: border-box;top: 0;bottom: 0;left: 50%;z-index: -1;}#sk-container-id-4 div.sk-parallel-item {display: flex;flex-direction: column;z-index: 1;position: relative;background-color: white;}#sk-container-id-4 div.sk-parallel-item:first-child::after {align-self: flex-end;width: 50%;}#sk-container-id-4 div.sk-parallel-item:last-child::after {align-self: flex-start;width: 50%;}#sk-container-id-4 div.sk-parallel-item:only-child::after {width: 0;}#sk-container-id-4 div.sk-dashed-wrapped {border: 1px dashed gray;margin: 0 0.4em 0.5em 0.4em;box-sizing: border-box;padding-bottom: 0.4em;background-color: white;}#sk-container-id-4 div.sk-label label {font-family: monospace;font-weight: bold;display: inline-block;line-height: 1.2em;}#sk-container-id-4 div.sk-label-container {text-align: center;}#sk-container-id-4 div.sk-container {/* jupyter's `normalize.less` sets `[hidden] { display: none; }` but bootstrap.min.css set `[hidden] { display: none !important; }` so we also need the `!important` here to be able to override the default hidden behavior on the sphinx rendered scikit-learn.org. See: https://github.com/scikit-learn/scikit-learn/issues/21755 */display: inline-block !important;position: relative;}#sk-container-id-4 div.sk-text-repr-fallback {display: none;}</style><div id=\"sk-container-id-4\" class=\"sk-top-container\"><div class=\"sk-text-repr-fallback\"><pre>LogisticRegression(random_state=0)</pre><b>In a Jupyter environment, please rerun this cell to show the HTML representation or trust the notebook. <br />On GitHub, the HTML representation is unable to render, please try loading this page with nbviewer.org.</b></div><div class=\"sk-container\" hidden><div class=\"sk-item\"><div class=\"sk-estimator sk-toggleable\"><input class=\"sk-toggleable__control sk-hidden--visually\" id=\"sk-estimator-id-4\" type=\"checkbox\" checked><label for=\"sk-estimator-id-4\" class=\"sk-toggleable__label sk-toggleable__label-arrow\">LogisticRegression</label><div class=\"sk-toggleable__content\"><pre>LogisticRegression(random_state=0)</pre></div></div></div></div></div>"
            ]
          },
          "metadata": {},
          "execution_count": 33
        }
      ]
    },
    {
      "cell_type": "markdown",
      "source": [
        "## Predicting Result"
      ],
      "metadata": {
        "id": "11Nb9dFMHYX5"
      }
    },
    {
      "cell_type": "code",
      "source": [
        "y_pred = classifier.predict(X_test)\n",
        "print(np.concatenate((y_pred.reshape(len(y_pred),1), y_test.reshape(len(y_test),1)),1))"
      ],
      "metadata": {
        "colab": {
          "base_uri": "https://localhost:8080/"
        },
        "id": "XDR9js3QG35D",
        "outputId": "33beb134-cb30-46b3-a6a0-f2fa8923153c"
      },
      "execution_count": 38,
      "outputs": [
        {
          "output_type": "stream",
          "name": "stdout",
          "text": [
            "[[1 0]\n",
            " [1 1]\n",
            " [1 0]\n",
            " [1 1]\n",
            " [1 0]\n",
            " [1 1]\n",
            " [0 1]\n",
            " [1 1]\n",
            " [1 0]\n",
            " [1 1]\n",
            " [1 0]\n",
            " [0 0]\n",
            " [1 0]\n",
            " [1 0]\n",
            " [1 1]\n",
            " [1 0]\n",
            " [1 1]\n",
            " [1 1]\n",
            " [1 0]\n",
            " [1 1]\n",
            " [0 1]\n",
            " [1 1]\n",
            " [0 0]\n",
            " [0 0]\n",
            " [1 1]\n",
            " [1 0]\n",
            " [1 1]\n",
            " [0 0]\n",
            " [0 1]]\n"
          ]
        }
      ]
    },
    {
      "cell_type": "markdown",
      "source": [
        "## Confusion Matrix"
      ],
      "metadata": {
        "id": "NGj5XNRYHcZg"
      }
    },
    {
      "cell_type": "code",
      "source": [
        "from sklearn.metrics import confusion_matrix, accuracy_score\n",
        "cm = confusion_matrix(y_test, y_pred)\n",
        "sns.heatmap(cm, annot=True, cmap=\"YlGnBu\")"
      ],
      "metadata": {
        "colab": {
          "base_uri": "https://localhost:8080/",
          "height": 452
        },
        "id": "g4eKlNRiG7uA",
        "outputId": "9ff0a6ba-993a-4daa-c4bf-5df51463fefa"
      },
      "execution_count": 35,
      "outputs": [
        {
          "output_type": "execute_result",
          "data": {
            "text/plain": [
              "<Axes: >"
            ]
          },
          "metadata": {},
          "execution_count": 35
        },
        {
          "output_type": "display_data",
          "data": {
            "text/plain": [
              "<Figure size 640x480 with 2 Axes>"
            ],
            "image/png": "[encoded data removed]"
          },
          "metadata": {}
        }
      ]
    },
    {
      "cell_type": "markdown",
      "source": [
        "## Accuracy"
      ],
      "metadata": {
        "id": "3PALNk9VHfR_"
      }
    },
    {
      "cell_type": "code",
      "source": [
        "print(f\"Accuracy : {accuracy_score(y_test, y_pred)}\")"
      ],
      "metadata": {
        "colab": {
          "base_uri": "https://localhost:8080/"
        },
        "id": "k_7EQV-OG-oS",
        "outputId": "08b2899d-6708-4727-daad-3aa7146f3837"
      },
      "execution_count": 36,
      "outputs": [
        {
          "output_type": "stream",
          "name": "stdout",
          "text": [
            "Accuracy : 0.5517241379310345\n"
          ]
        }
      ]
    },
    {
      "cell_type": "markdown",
      "source": [
        "# Support Vector Machine"
      ],
      "metadata": {
        "id": "JnGUWJJKHhoZ"
      }
    },
    {
      "cell_type": "markdown",
      "source": [
        "## Making A Model"
      ],
      "metadata": {
        "id": "0t88-lVpI_nG"
      }
    },
    {
      "cell_type": "code",
      "source": [
        "from sklearn.svm import SVC\n",
        "classifier = SVC(kernel = 'linear', random_state = 0)\n",
        "classifier.fit(X_train, y_train)"
      ],
      "metadata": {
        "colab": {
          "base_uri": "https://localhost:8080/",
          "height": 74
        },
        "id": "cooUW61HHkNN",
        "outputId": "db4a78d6-c89c-4bb7-bcc6-02778027a33c"
      },
      "execution_count": 37,
      "outputs": [
        {
          "output_type": "execute_result",
          "data": {
            "text/plain": [
              "SVC(kernel='linear', random_state=0)"
            ],
            "text/html": [
              "<style>#sk-container-id-5 {color: black;background-color: white;}#sk-container-id-5 pre{padding: 0;}#sk-container-id-5 div.sk-toggleable {background-color: white;}#sk-container-id-5 label.sk-toggleable__label {cursor: pointer;display: block;width: 100%;margin-bottom: 0;padding: 0.3em;box-sizing: border-box;text-align: center;}#sk-container-id-5 label.sk-toggleable__label-arrow:before {content: \"▸\";float: left;margin-right: 0.25em;color: #696969;}#sk-container-id-5 label.sk-toggleable__label-arrow:hover:before {color: black;}#sk-container-id-5 div.sk-estimator:hover label.sk-toggleable__label-arrow:before {color: black;}#sk-container-id-5 div.sk-toggleable__content {max-height: 0;max-width: 0;overflow: hidden;text-align: left;background-color: #f0f8ff;}#sk-container-id-5 div.sk-toggleable__content pre {margin: 0.2em;color: black;border-radius: 0.25em;background-color: #f0f8ff;}#sk-container-id-5 input.sk-toggleable__control:checked~div.sk-toggleable__content {max-height: 200px;max-width: 100%;overflow: auto;}#sk-container-id-5 input.sk-toggleable__control:checked~label.sk-toggleable__label-arrow:before {content: \"▾\";}#sk-container-id-5 div.sk-estimator input.sk-toggleable__control:checked~label.sk-toggleable__label {background-color: #d4ebff;}#sk-container-id-5 div.sk-label input.sk-toggleable__control:checked~label.sk-toggleable__label {background-color: #d4ebff;}#sk-container-id-5 input.sk-hidden--visually {border: 0;clip: rect(1px 1px 1px 1px);clip: rect(1px, 1px, 1px, 1px);height: 1px;margin: -1px;overflow: hidden;padding: 0;position: absolute;width: 1px;}#sk-container-id-5 div.sk-estimator {font-family: monospace;background-color: #f0f8ff;border: 1px dotted black;border-radius: 0.25em;box-sizing: border-box;margin-bottom: 0.5em;}#sk-container-id-5 div.sk-estimator:hover {background-color: #d4ebff;}#sk-container-id-5 div.sk-parallel-item::after {content: \"\";width: 100%;border-bottom: 1px solid gray;flex-grow: 1;}#sk-container-id-5 div.sk-label:hover label.sk-toggleable__label {background-color: #d4ebff;}#sk-container-id-5 div.sk-serial::before {content: \"\";position: absolute;border-left: 1px solid gray;box-sizing: border-box;top: 0;bottom: 0;left: 50%;z-index: 0;}#sk-container-id-5 div.sk-serial {display: flex;flex-direction: column;align-items: center;background-color: white;padding-right: 0.2em;padding-left: 0.2em;position: relative;}#sk-container-id-5 div.sk-item {position: relative;z-index: 1;}#sk-container-id-5 div.sk-parallel {display: flex;align-items: stretch;justify-content: center;background-color: white;position: relative;}#sk-container-id-5 div.sk-item::before, #sk-container-id-5 div.sk-parallel-item::before {content: \"\";position: absolute;border-left: 1px solid gray;box-sizing: border-box;top: 0;bottom: 0;left: 50%;z-index: -1;}#sk-container-id-5 div.sk-parallel-item {display: flex;flex-direction: column;z-index: 1;position: relative;background-color: white;}#sk-container-id-5 div.sk-parallel-item:first-child::after {align-self: flex-end;width: 50%;}#sk-container-id-5 div.sk-parallel-item:last-child::after {align-self: flex-start;width: 50%;}#sk-container-id-5 div.sk-parallel-item:only-child::after {width: 0;}#sk-container-id-5 div.sk-dashed-wrapped {border: 1px dashed gray;margin: 0 0.4em 0.5em 0.4em;box-sizing: border-box;padding-bottom: 0.4em;background-color: white;}#sk-container-id-5 div.sk-label label {font-family: monospace;font-weight: bold;display: inline-block;line-height: 1.2em;}#sk-container-id-5 div.sk-label-container {text-align: center;}#sk-container-id-5 div.sk-container {/* jupyter's `normalize.less` sets `[hidden] { display: none; }` but bootstrap.min.css set `[hidden] { display: none !important; }` so we also need the `!important` here to be able to override the default hidden behavior on the sphinx rendered scikit-learn.org. See: https://github.com/scikit-learn/scikit-learn/issues/21755 */display: inline-block !important;position: relative;}#sk-container-id-5 div.sk-text-repr-fallback {display: none;}</style><div id=\"sk-container-id-5\" class=\"sk-top-container\"><div class=\"sk-text-repr-fallback\"><pre>SVC(kernel=&#x27;linear&#x27;, random_state=0)</pre><b>In a Jupyter environment, please rerun this cell to show the HTML representation or trust the notebook. <br />On GitHub, the HTML representation is unable to render, please try loading this page with nbviewer.org.</b></div><div class=\"sk-container\" hidden><div class=\"sk-item\"><div class=\"sk-estimator sk-toggleable\"><input class=\"sk-toggleable__control sk-hidden--visually\" id=\"sk-estimator-id-5\" type=\"checkbox\" checked><label for=\"sk-estimator-id-5\" class=\"sk-toggleable__label sk-toggleable__label-arrow\">SVC</label><div class=\"sk-toggleable__content\"><pre>SVC(kernel=&#x27;linear&#x27;, random_state=0)</pre></div></div></div></div></div>"
            ]
          },
          "metadata": {},
          "execution_count": 37
        }
      ]
    },
    {
      "cell_type": "markdown",
      "source": [
        "## Predicting Result"
      ],
      "metadata": {
        "id": "_Uwrs0KeJCUQ"
      }
    },
    {
      "cell_type": "code",
      "source": [
        "y_pred = classifier.predict(X_test)\n",
        "print(np.concatenate((y_pred.reshape(len(y_pred),1), y_test.reshape(len(y_test),1)),1))"
      ],
      "metadata": {
        "colab": {
          "base_uri": "https://localhost:8080/"
        },
        "id": "XvEFbjTDHvQi",
        "outputId": "160d4a4b-556d-4dd9-a265-c6b5424c8bfd"
      },
      "execution_count": 39,
      "outputs": [
        {
          "output_type": "stream",
          "name": "stdout",
          "text": [
            "[[1 0]\n",
            " [1 1]\n",
            " [1 0]\n",
            " [1 1]\n",
            " [1 0]\n",
            " [1 1]\n",
            " [0 1]\n",
            " [1 1]\n",
            " [1 0]\n",
            " [1 1]\n",
            " [1 0]\n",
            " [0 0]\n",
            " [1 0]\n",
            " [1 0]\n",
            " [1 1]\n",
            " [1 0]\n",
            " [1 1]\n",
            " [1 1]\n",
            " [1 0]\n",
            " [1 1]\n",
            " [0 1]\n",
            " [1 1]\n",
            " [0 0]\n",
            " [0 0]\n",
            " [1 1]\n",
            " [1 0]\n",
            " [1 1]\n",
            " [0 0]\n",
            " [0 1]]\n"
          ]
        }
      ]
    },
    {
      "cell_type": "markdown",
      "source": [
        "## Confusion Matrix"
      ],
      "metadata": {
        "id": "LFlrSus-JFfd"
      }
    },
    {
      "cell_type": "code",
      "source": [
        "from sklearn.metrics import confusion_matrix, accuracy_score\n",
        "cm = confusion_matrix(y_test, y_pred)\n",
        "sns.heatmap(cm, annot=True, cmap=\"YlGnBu\")"
      ],
      "metadata": {
        "colab": {
          "base_uri": "https://localhost:8080/",
          "height": 452
        },
        "id": "-xvi0ANaH1MI",
        "outputId": "183e91cb-cf1e-4718-8510-5b05153b46a2"
      },
      "execution_count": 40,
      "outputs": [
        {
          "output_type": "execute_result",
          "data": {
            "text/plain": [
              "<Axes: >"
            ]
          },
          "metadata": {},
          "execution_count": 40
        },
        {
          "output_type": "display_data",
          "data": {
            "text/plain": [
              "<Figure size 640x480 with 2 Axes>"
            ],
            "image/png": "[encoded data removed]"
          },
          "metadata": {}
        }
      ]
    },
    {
      "cell_type": "markdown",
      "source": [
        "## Accuracy"
      ],
      "metadata": {
        "id": "mFuV26frJHam"
      }
    },
    {
      "cell_type": "code",
      "source": [
        "print(f\"Accuracy : {accuracy_score(y_test, y_pred)}\")"
      ],
      "metadata": {
        "colab": {
          "base_uri": "https://localhost:8080/"
        },
        "id": "QIhdiChNH2rX",
        "outputId": "2a5ad527-069d-4a54-faa1-d6e0da637ed2"
      },
      "execution_count": 41,
      "outputs": [
        {
          "output_type": "stream",
          "name": "stdout",
          "text": [
            "Accuracy : 0.5517241379310345\n"
          ]
        }
      ]
    },
    {
      "cell_type": "markdown",
      "source": [
        "# Kernel SVM"
      ],
      "metadata": {
        "id": "6zDM96wGIAwo"
      }
    },
    {
      "cell_type": "markdown",
      "source": [
        "## Making A Model"
      ],
      "metadata": {
        "id": "jKzlYhD9JJMf"
      }
    },
    {
      "cell_type": "code",
      "source": [
        "from sklearn.svm import SVC\n",
        "classifier = SVC(kernel = 'rbf', random_state = 0)\n",
        "classifier.fit(X_train, y_train)"
      ],
      "metadata": {
        "colab": {
          "base_uri": "https://localhost:8080/",
          "height": 74
        },
        "id": "2f0FkhCmH6h4",
        "outputId": "132e934a-8532-410a-dbd5-6f6f6563dd18"
      },
      "execution_count": 42,
      "outputs": [
        {
          "output_type": "execute_result",
          "data": {
            "text/plain": [
              "SVC(random_state=0)"
            ],
            "text/html": [
              "<style>#sk-container-id-6 {color: black;background-color: white;}#sk-container-id-6 pre{padding: 0;}#sk-container-id-6 div.sk-toggleable {background-color: white;}#sk-container-id-6 label.sk-toggleable__label {cursor: pointer;display: block;width: 100%;margin-bottom: 0;padding: 0.3em;box-sizing: border-box;text-align: center;}#sk-container-id-6 label.sk-toggleable__label-arrow:before {content: \"▸\";float: left;margin-right: 0.25em;color: #696969;}#sk-container-id-6 label.sk-toggleable__label-arrow:hover:before {color: black;}#sk-container-id-6 div.sk-estimator:hover label.sk-toggleable__label-arrow:before {color: black;}#sk-container-id-6 div.sk-toggleable__content {max-height: 0;max-width: 0;overflow: hidden;text-align: left;background-color: #f0f8ff;}#sk-container-id-6 div.sk-toggleable__content pre {margin: 0.2em;color: black;border-radius: 0.25em;background-color: #f0f8ff;}#sk-container-id-6 input.sk-toggleable__control:checked~div.sk-toggleable__content {max-height: 200px;max-width: 100%;overflow: auto;}#sk-container-id-6 input.sk-toggleable__control:checked~label.sk-toggleable__label-arrow:before {content: \"▾\";}#sk-container-id-6 div.sk-estimator input.sk-toggleable__control:checked~label.sk-toggleable__label {background-color: #d4ebff;}#sk-container-id-6 div.sk-label input.sk-toggleable__control:checked~label.sk-toggleable__label {background-color: #d4ebff;}#sk-container-id-6 input.sk-hidden--visually {border: 0;clip: rect(1px 1px 1px 1px);clip: rect(1px, 1px, 1px, 1px);height: 1px;margin: -1px;overflow: hidden;padding: 0;position: absolute;width: 1px;}#sk-container-id-6 div.sk-estimator {font-family: monospace;background-color: #f0f8ff;border: 1px dotted black;border-radius: 0.25em;box-sizing: border-box;margin-bottom: 0.5em;}#sk-container-id-6 div.sk-estimator:hover {background-color: #d4ebff;}#sk-container-id-6 div.sk-parallel-item::after {content: \"\";width: 100%;border-bottom: 1px solid gray;flex-grow: 1;}#sk-container-id-6 div.sk-label:hover label.sk-toggleable__label {background-color: #d4ebff;}#sk-container-id-6 div.sk-serial::before {content: \"\";position: absolute;border-left: 1px solid gray;box-sizing: border-box;top: 0;bottom: 0;left: 50%;z-index: 0;}#sk-container-id-6 div.sk-serial {display: flex;flex-direction: column;align-items: center;background-color: white;padding-right: 0.2em;padding-left: 0.2em;position: relative;}#sk-container-id-6 div.sk-item {position: relative;z-index: 1;}#sk-container-id-6 div.sk-parallel {display: flex;align-items: stretch;justify-content: center;background-color: white;position: relative;}#sk-container-id-6 div.sk-item::before, #sk-container-id-6 div.sk-parallel-item::before {content: \"\";position: absolute;border-left: 1px solid gray;box-sizing: border-box;top: 0;bottom: 0;left: 50%;z-index: -1;}#sk-container-id-6 div.sk-parallel-item {display: flex;flex-direction: column;z-index: 1;position: relative;background-color: white;}#sk-container-id-6 div.sk-parallel-item:first-child::after {align-self: flex-end;width: 50%;}#sk-container-id-6 div.sk-parallel-item:last-child::after {align-self: flex-start;width: 50%;}#sk-container-id-6 div.sk-parallel-item:only-child::after {width: 0;}#sk-container-id-6 div.sk-dashed-wrapped {border: 1px dashed gray;margin: 0 0.4em 0.5em 0.4em;box-sizing: border-box;padding-bottom: 0.4em;background-color: white;}#sk-container-id-6 div.sk-label label {font-family: monospace;font-weight: bold;display: inline-block;line-height: 1.2em;}#sk-container-id-6 div.sk-label-container {text-align: center;}#sk-container-id-6 div.sk-container {/* jupyter's `normalize.less` sets `[hidden] { display: none; }` but bootstrap.min.css set `[hidden] { display: none !important; }` so we also need the `!important` here to be able to override the default hidden behavior on the sphinx rendered scikit-learn.org. See: https://github.com/scikit-learn/scikit-learn/issues/21755 */display: inline-block !important;position: relative;}#sk-container-id-6 div.sk-text-repr-fallback {display: none;}</style><div id=\"sk-container-id-6\" class=\"sk-top-container\"><div class=\"sk-text-repr-fallback\"><pre>SVC(random_state=0)</pre><b>In a Jupyter environment, please rerun this cell to show the HTML representation or trust the notebook. <br />On GitHub, the HTML representation is unable to render, please try loading this page with nbviewer.org.</b></div><div class=\"sk-container\" hidden><div class=\"sk-item\"><div class=\"sk-estimator sk-toggleable\"><input class=\"sk-toggleable__control sk-hidden--visually\" id=\"sk-estimator-id-6\" type=\"checkbox\" checked><label for=\"sk-estimator-id-6\" class=\"sk-toggleable__label sk-toggleable__label-arrow\">SVC</label><div class=\"sk-toggleable__content\"><pre>SVC(random_state=0)</pre></div></div></div></div></div>"
            ]
          },
          "metadata": {},
          "execution_count": 42
        }
      ]
    },
    {
      "cell_type": "markdown",
      "source": [
        "## Predicting Result"
      ],
      "metadata": {
        "id": "lwxjjbXeJLUI"
      }
    },
    {
      "cell_type": "code",
      "source": [
        "y_pred = classifier.predict(X_test)\n",
        "print(np.concatenate((y_pred.reshape(len(y_pred),1), y_test.reshape(len(y_test),1)),1))"
      ],
      "metadata": {
        "colab": {
          "base_uri": "https://localhost:8080/"
        },
        "id": "2aLHejliIP_3",
        "outputId": "99452650-bc6d-45e2-a4d0-3e8aab5883f8"
      },
      "execution_count": 43,
      "outputs": [
        {
          "output_type": "stream",
          "name": "stdout",
          "text": [
            "[[1 0]\n",
            " [1 1]\n",
            " [1 0]\n",
            " [1 1]\n",
            " [1 0]\n",
            " [1 1]\n",
            " [0 1]\n",
            " [1 1]\n",
            " [1 0]\n",
            " [1 1]\n",
            " [0 0]\n",
            " [0 0]\n",
            " [1 0]\n",
            " [1 0]\n",
            " [1 1]\n",
            " [1 0]\n",
            " [1 1]\n",
            " [1 1]\n",
            " [1 0]\n",
            " [0 1]\n",
            " [0 1]\n",
            " [1 1]\n",
            " [0 0]\n",
            " [0 0]\n",
            " [0 1]\n",
            " [1 0]\n",
            " [1 1]\n",
            " [0 0]\n",
            " [0 1]]\n"
          ]
        }
      ]
    },
    {
      "cell_type": "markdown",
      "source": [
        "# Confusion Matrix"
      ],
      "metadata": {
        "id": "wf3cti7sJOFt"
      }
    },
    {
      "cell_type": "code",
      "source": [
        "from sklearn.metrics import confusion_matrix, accuracy_score\n",
        "cm = confusion_matrix(y_test, y_pred)\n",
        "sns.heatmap(cm, annot=True, cmap=\"YlGnBu\")"
      ],
      "metadata": {
        "colab": {
          "base_uri": "https://localhost:8080/",
          "height": 452
        },
        "id": "JnOFAtktITpx",
        "outputId": "56aa8650-78fe-4ee1-89d8-129de9db8d2c"
      },
      "execution_count": 44,
      "outputs": [
        {
          "output_type": "execute_result",
          "data": {
            "text/plain": [
              "<Axes: >"
            ]
          },
          "metadata": {},
          "execution_count": 44
        },
        {
          "output_type": "display_data",
          "data": {
            "text/plain": [
              "<Figure size 640x480 with 2 Axes>"
            ],
            "image/png": "[encoded data removed]"
          },
          "metadata": {}
        }
      ]
    },
    {
      "cell_type": "code",
      "source": [
        "print(f\"Accuracy : {accuracy_score(y_test, y_pred)}\")"
      ],
      "metadata": {
        "colab": {
          "base_uri": "https://localhost:8080/"
        },
        "id": "3zdxs3IFIVkA",
        "outputId": "33427349-15c4-4839-d1e2-bc7c55fe52c6"
      },
      "execution_count": 45,
      "outputs": [
        {
          "output_type": "stream",
          "name": "stdout",
          "text": [
            "Accuracy : 0.5172413793103449\n"
          ]
        }
      ]
    },
    {
      "cell_type": "markdown",
      "source": [
        "# Naive Bayes"
      ],
      "metadata": {
        "id": "eQZshWv5IpWB"
      }
    },
    {
      "cell_type": "code",
      "source": [
        "from sklearn.naive_bayes import GaussianNB\n",
        "classifier = GaussianNB()\n",
        "classifier.fit(X_train, y_train)"
      ],
      "metadata": {
        "colab": {
          "base_uri": "https://localhost:8080/",
          "height": 74
        },
        "id": "sQublMUrIaE-",
        "outputId": "dc8b0cc0-c772-4031-9e9d-c35622257264"
      },
      "execution_count": 46,
      "outputs": [
        {
          "output_type": "execute_result",
          "data": {
            "text/plain": [
              "GaussianNB()"
            ],
            "text/html": [
              "<style>#sk-container-id-7 {color: black;background-color: white;}#sk-container-id-7 pre{padding: 0;}#sk-container-id-7 div.sk-toggleable {background-color: white;}#sk-container-id-7 label.sk-toggleable__label {cursor: pointer;display: block;width: 100%;margin-bottom: 0;padding: 0.3em;box-sizing: border-box;text-align: center;}#sk-container-id-7 label.sk-toggleable__label-arrow:before {content: \"▸\";float: left;margin-right: 0.25em;color: #696969;}#sk-container-id-7 label.sk-toggleable__label-arrow:hover:before {color: black;}#sk-container-id-7 div.sk-estimator:hover label.sk-toggleable__label-arrow:before {color: black;}#sk-container-id-7 div.sk-toggleable__content {max-height: 0;max-width: 0;overflow: hidden;text-align: left;background-color: #f0f8ff;}#sk-container-id-7 div.sk-toggleable__content pre {margin: 0.2em;color: black;border-radius: 0.25em;background-color: #f0f8ff;}#sk-container-id-7 input.sk-toggleable__control:checked~div.sk-toggleable__content {max-height: 200px;max-width: 100%;overflow: auto;}#sk-container-id-7 input.sk-toggleable__control:checked~label.sk-toggleable__label-arrow:before {content: \"▾\";}#sk-container-id-7 div.sk-estimator input.sk-toggleable__control:checked~label.sk-toggleable__label {background-color: #d4ebff;}#sk-container-id-7 div.sk-label input.sk-toggleable__control:checked~label.sk-toggleable__label {background-color: #d4ebff;}#sk-container-id-7 input.sk-hidden--visually {border: 0;clip: rect(1px 1px 1px 1px);clip: rect(1px, 1px, 1px, 1px);height: 1px;margin: -1px;overflow: hidden;padding: 0;position: absolute;width: 1px;}#sk-container-id-7 div.sk-estimator {font-family: monospace;background-color: #f0f8ff;border: 1px dotted black;border-radius: 0.25em;box-sizing: border-box;margin-bottom: 0.5em;}#sk-container-id-7 div.sk-estimator:hover {background-color: #d4ebff;}#sk-container-id-7 div.sk-parallel-item::after {content: \"\";width: 100%;border-bottom: 1px solid gray;flex-grow: 1;}#sk-container-id-7 div.sk-label:hover label.sk-toggleable__label {background-color: #d4ebff;}#sk-container-id-7 div.sk-serial::before {content: \"\";position: absolute;border-left: 1px solid gray;box-sizing: border-box;top: 0;bottom: 0;left: 50%;z-index: 0;}#sk-container-id-7 div.sk-serial {display: flex;flex-direction: column;align-items: center;background-color: white;padding-right: 0.2em;padding-left: 0.2em;position: relative;}#sk-container-id-7 div.sk-item {position: relative;z-index: 1;}#sk-container-id-7 div.sk-parallel {display: flex;align-items: stretch;justify-content: center;background-color: white;position: relative;}#sk-container-id-7 div.sk-item::before, #sk-container-id-7 div.sk-parallel-item::before {content: \"\";position: absolute;border-left: 1px solid gray;box-sizing: border-box;top: 0;bottom: 0;left: 50%;z-index: -1;}#sk-container-id-7 div.sk-parallel-item {display: flex;flex-direction: column;z-index: 1;position: relative;background-color: white;}#sk-container-id-7 div.sk-parallel-item:first-child::after {align-self: flex-end;width: 50%;}#sk-container-id-7 div.sk-parallel-item:last-child::after {align-self: flex-start;width: 50%;}#sk-container-id-7 div.sk-parallel-item:only-child::after {width: 0;}#sk-container-id-7 div.sk-dashed-wrapped {border: 1px dashed gray;margin: 0 0.4em 0.5em 0.4em;box-sizing: border-box;padding-bottom: 0.4em;background-color: white;}#sk-container-id-7 div.sk-label label {font-family: monospace;font-weight: bold;display: inline-block;line-height: 1.2em;}#sk-container-id-7 div.sk-label-container {text-align: center;}#sk-container-id-7 div.sk-container {/* jupyter's `normalize.less` sets `[hidden] { display: none; }` but bootstrap.min.css set `[hidden] { display: none !important; }` so we also need the `!important` here to be able to override the default hidden behavior on the sphinx rendered scikit-learn.org. See: https://github.com/scikit-learn/scikit-learn/issues/21755 */display: inline-block !important;position: relative;}#sk-container-id-7 div.sk-text-repr-fallback {display: none;}</style><div id=\"sk-container-id-7\" class=\"sk-top-container\"><div class=\"sk-text-repr-fallback\"><pre>GaussianNB()</pre><b>In a Jupyter environment, please rerun this cell to show the HTML representation or trust the notebook. <br />On GitHub, the HTML representation is unable to render, please try loading this page with nbviewer.org.</b></div><div class=\"sk-container\" hidden><div class=\"sk-item\"><div class=\"sk-estimator sk-toggleable\"><input class=\"sk-toggleable__control sk-hidden--visually\" id=\"sk-estimator-id-7\" type=\"checkbox\" checked><label for=\"sk-estimator-id-7\" class=\"sk-toggleable__label sk-toggleable__label-arrow\">GaussianNB</label><div class=\"sk-toggleable__content\"><pre>GaussianNB()</pre></div></div></div></div></div>"
            ]
          },
          "metadata": {},
          "execution_count": 46
        }
      ]
    },
    {
      "cell_type": "markdown",
      "source": [
        "## Predicting Result"
      ],
      "metadata": {
        "id": "-FrkRM1zJQNz"
      }
    },
    {
      "cell_type": "code",
      "source": [
        "y_pred = classifier.predict(X_test)\n",
        "print(np.concatenate((y_pred.reshape(len(y_pred),1), y_test.reshape(len(y_test),1)),1))"
      ],
      "metadata": {
        "colab": {
          "base_uri": "https://localhost:8080/"
        },
        "id": "tUwKCgjVIqeA",
        "outputId": "af605bb3-28c4-404f-ebbd-5b33fe304808"
      },
      "execution_count": 47,
      "outputs": [
        {
          "output_type": "stream",
          "name": "stdout",
          "text": [
            "[[1 0]\n",
            " [1 1]\n",
            " [1 0]\n",
            " [1 1]\n",
            " [1 0]\n",
            " [1 1]\n",
            " [0 1]\n",
            " [1 1]\n",
            " [1 0]\n",
            " [1 1]\n",
            " [0 0]\n",
            " [0 0]\n",
            " [1 0]\n",
            " [1 0]\n",
            " [1 1]\n",
            " [1 0]\n",
            " [1 1]\n",
            " [1 1]\n",
            " [0 0]\n",
            " [0 1]\n",
            " [0 1]\n",
            " [1 1]\n",
            " [1 0]\n",
            " [0 0]\n",
            " [0 1]\n",
            " [1 0]\n",
            " [1 1]\n",
            " [0 0]\n",
            " [0 1]]\n"
          ]
        }
      ]
    },
    {
      "cell_type": "markdown",
      "source": [
        "## Confusion Matrix"
      ],
      "metadata": {
        "id": "ZU5qcRPlJSj1"
      }
    },
    {
      "cell_type": "code",
      "source": [
        "from sklearn.metrics import confusion_matrix, accuracy_score\n",
        "cm = confusion_matrix(y_test, y_pred)\n",
        "sns.heatmap(cm, annot=True, cmap=\"YlGnBu\")"
      ],
      "metadata": {
        "colab": {
          "base_uri": "https://localhost:8080/",
          "height": 452
        },
        "id": "OU2PToneIssA",
        "outputId": "b4870fa0-bd86-4e14-b4fe-a2b92112b271"
      },
      "execution_count": 48,
      "outputs": [
        {
          "output_type": "execute_result",
          "data": {
            "text/plain": [
              "<Axes: >"
            ]
          },
          "metadata": {},
          "execution_count": 48
        },
        {
          "output_type": "display_data",
          "data": {
            "text/plain": [
              "<Figure size 640x480 with 2 Axes>"
            ],
            "image/png": "[encoded data removed]"
          },
          "metadata": {}
        }
      ]
    },
    {
      "cell_type": "markdown",
      "source": [
        "## Accuracy"
      ],
      "metadata": {
        "id": "IOkXDhOgJUqO"
      }
    },
    {
      "cell_type": "code",
      "source": [
        "print(f\"Accuracy : {accuracy_score(y_test, y_pred)}\")"
      ],
      "metadata": {
        "colab": {
          "base_uri": "https://localhost:8080/"
        },
        "id": "P_ufSqydIvgv",
        "outputId": "6c306298-e1a7-4306-a630-680436ae6eac"
      },
      "execution_count": 49,
      "outputs": [
        {
          "output_type": "stream",
          "name": "stdout",
          "text": [
            "Accuracy : 0.5172413793103449\n"
          ]
        }
      ]
    },
    {
      "cell_type": "markdown",
      "source": [
        "# Conclusion"
      ],
      "metadata": {
        "id": "Kp5DKz7-Jc22"
      }
    },
    {
      "cell_type": "markdown",
      "source": [
        "The highest accuracy is Decision Tree algorithm with accuracy **0.66** or equal to **66 %** since the acceptable accuracy is 70 % or higher this model still need optimizations"
      ],
      "metadata": {
        "id": "0YAxSENqJgTm"
      }
    },
    {
      "cell_type": "markdown",
      "source": [
        "# Optimization"
      ],
      "metadata": {
        "id": "65biZelnUuI3"
      }
    },
    {
      "cell_type": "markdown",
      "source": [
        "In this optimization we use tuning method by checking the random state and accuracy"
      ],
      "metadata": {
        "id": "MRZ6kE4hWn_o"
      }
    },
    {
      "cell_type": "code",
      "source": [
        "from sklearn.tree import DecisionTreeClassifier\n",
        "from sklearn.metrics import accuracy_score\n",
        "rs = []\n",
        "acc = []\n",
        "for i in range (2000):\n",
        "  classifier = DecisionTreeClassifier(criterion = 'entropy', random_state = i)\n",
        "  rs.append(i)\n",
        "  classifier.fit(X_train, y_train)\n",
        "  y_pred = classifier.predict(X_test)\n",
        "  acc.append(accuracy_score(y_test, y_pred))"
      ],
      "metadata": {
        "id": "H5ujNvVZUDEZ"
      },
      "execution_count": 74,
      "outputs": []
    },
    {
      "cell_type": "code",
      "source": [
        "opt = pd.DataFrame({\"Random State\":rs,\"Accuracy\":acc})\n",
        "opt.sort_values('Accuracy', ascending=False).head()"
      ],
      "metadata": {
        "colab": {
          "base_uri": "https://localhost:8080/",
          "height": 206
        },
        "id": "JGWhrAQKVYAw",
        "outputId": "0c5e5e01-605f-49fe-ef64-016670fb3003"
      },
      "execution_count": 79,
      "outputs": [
        {
          "output_type": "execute_result",
          "data": {
            "text/plain": [
              "      Random State  Accuracy\n",
              "1999          1999  0.689655\n",
              "742            742  0.689655\n",
              "1539          1539  0.689655\n",
              "605            605  0.689655\n",
              "608            608  0.689655"
            ],
            "text/html": [
              "\n",
              "  <div id=\"df-c915039a-f612-4c7a-aeda-ef43749c476a\" class=\"colab-df-container\">\n",
              "    <div>\n",
              "<style scoped>\n",
              "    .dataframe tbody tr th:only-of-type {\n",
              "        vertical-align: middle;\n",
              "    }\n",
              "\n",
              "    .dataframe tbody tr th {\n",
              "        vertical-align: top;\n",
              "    }\n",
              "\n",
              "    .dataframe thead th {\n",
              "        text-align: right;\n",
              "    }\n",
              "</style>\n",
              "<table border=\"1\" class=\"dataframe\">\n",
              "  <thead>\n",
              "    <tr style=\"text-align: right;\">\n",
              "      <th></th>\n",
              "      <th>Random State</th>\n",
              "      <th>Accuracy</th>\n",
              "    </tr>\n",
              "  </thead>\n",
              "  <tbody>\n",
              "    <tr>\n",
              "      <th>1999</th>\n",
              "      <td>1999</td>\n",
              "      <td>0.689655</td>\n",
              "    </tr>\n",
              "    <tr>\n",
              "      <th>742</th>\n",
              "      <td>742</td>\n",
              "      <td>0.689655</td>\n",
              "    </tr>\n",
              "    <tr>\n",
              "      <th>1539</th>\n",
              "      <td>1539</td>\n",
              "      <td>0.689655</td>\n",
              "    </tr>\n",
              "    <tr>\n",
              "      <th>605</th>\n",
              "      <td>605</td>\n",
              "      <td>0.689655</td>\n",
              "    </tr>\n",
              "    <tr>\n",
              "      <th>608</th>\n",
              "      <td>608</td>\n",
              "      <td>0.689655</td>\n",
              "    </tr>\n",
              "  </tbody>\n",
              "</table>\n",
              "</div>\n",
              "    <div class=\"colab-df-buttons\">\n",
              "\n",
              "  <div class=\"colab-df-container\">\n",
              "    <button class=\"colab-df-convert\" onclick=\"convertToInteractive('df-c915039a-f612-4c7a-aeda-ef43749c476a')\"\n",
              "            title=\"Convert this dataframe to an interactive table.\"\n",
              "            style=\"display:none;\">\n",
              "\n",
              "  <svg xmlns=\"http://www.w3.org/2000/svg\" height=\"24px\" viewBox=\"0 -960 960 960\">\n",
              "    <path d=\"M120-120v-720h720v720H120Zm60-500h600v-160H180v160Zm220 220h160v-160H400v160Zm0 220h160v-160H400v160ZM180-400h160v-160H180v160Zm440 0h160v-160H620v160ZM180-180h160v-160H180v160Zm440 0h160v-160H620v160Z\"/>\n",
              "  </svg>\n",
              "    </button>\n",
              "\n",
              "  <style>\n",
              "    .colab-df-container {\n",
              "      display:flex;\n",
              "      gap: 12px;\n",
              "    }\n",
              "\n",
              "    .colab-df-convert {\n",
              "      background-color: #E8F0FE;\n",
              "      border: none;\n",
              "      border-radius: 50%;\n",
              "      cursor: pointer;\n",
              "      display: none;\n",
              "      fill: #1967D2;\n",
              "      height: 32px;\n",
              "      padding: 0 0 0 0;\n",
              "      width: 32px;\n",
              "    }\n",
              "\n",
              "    .colab-df-convert:hover {\n",
              "      background-color: #E2EBFA;\n",
              "      box-shadow: 0px 1px 2px rgba(60, 64, 67, 0.3), 0px 1px 3px 1px rgba(60, 64, 67, 0.15);\n",
              "      fill: #174EA6;\n",
              "    }\n",
              "\n",
              "    .colab-df-buttons div {\n",
              "      margin-bottom: 4px;\n",
              "    }\n",
              "\n",
              "    [theme=dark] .colab-df-convert {\n",
              "      background-color: #3B4455;\n",
              "      fill: #D2E3FC;\n",
              "    }\n",
              "\n",
              "    [theme=dark] .colab-df-convert:hover {\n",
              "      background-color: #434B5C;\n",
              "      box-shadow: 0px 1px 3px 1px rgba(0, 0, 0, 0.15);\n",
              "      filter: drop-shadow(0px 1px 2px rgba(0, 0, 0, 0.3));\n",
              "      fill: #FFFFFF;\n",
              "    }\n",
              "  </style>\n",
              "\n",
              "    <script>\n",
              "      const buttonEl =\n",
              "        document.querySelector('#df-c915039a-f612-4c7a-aeda-ef43749c476a button.colab-df-convert');\n",
              "      buttonEl.style.display =\n",
              "        google.colab.kernel.accessAllowed ? 'block' : 'none';\n",
              "\n",
              "      async function convertToInteractive(key) {\n",
              "        const element = document.querySelector('#df-c915039a-f612-4c7a-aeda-ef43749c476a');\n",
              "        const dataTable =\n",
              "          await google.colab.kernel.invokeFunction('convertToInteractive',\n",
              "                                                    [key], {});\n",
              "        if (!dataTable) return;\n",
              "\n",
              "        const docLinkHtml = 'Like what you see? Visit the ' +\n",
              "          '<a target=\"_blank\" href=https://colab.research.google.com/notebooks/data_table.ipynb>data table notebook</a>'\n",
              "          + ' to learn more about interactive tables.';\n",
              "        element.innerHTML = '';\n",
              "        dataTable['output_type'] = 'display_data';\n",
              "        await google.colab.output.renderOutput(dataTable, element);\n",
              "        const docLink = document.createElement('div');\n",
              "        docLink.innerHTML = docLinkHtml;\n",
              "        element.appendChild(docLink);\n",
              "      }\n",
              "    </script>\n",
              "  </div>\n",
              "\n",
              "\n",
              "<div id=\"df-5e138662-1735-4089-b27a-e69d8dab1ced\">\n",
              "  <button class=\"colab-df-quickchart\" onclick=\"quickchart('df-5e138662-1735-4089-b27a-e69d8dab1ced')\"\n",
              "            title=\"Suggest charts\"\n",
              "            style=\"display:none;\">\n",
              "\n",
              "<svg xmlns=\"http://www.w3.org/2000/svg\" height=\"24px\"viewBox=\"0 0 24 24\"\n",
              "     width=\"24px\">\n",
              "    <g>\n",
              "        <path d=\"M19 3H5c-1.1 0-2 .9-2 2v14c0 1.1.9 2 2 2h14c1.1 0 2-.9 2-2V5c0-1.1-.9-2-2-2zM9 17H7v-7h2v7zm4 0h-2V7h2v10zm4 0h-2v-4h2v4z\"/>\n",
              "    </g>\n",
              "</svg>\n",
              "  </button>\n",
              "\n",
              "<style>\n",
              "  .colab-df-quickchart {\n",
              "      --bg-color: #E8F0FE;\n",
              "      --fill-color: #1967D2;\n",
              "      --hover-bg-color: #E2EBFA;\n",
              "      --hover-fill-color: #174EA6;\n",
              "      --disabled-fill-color: #AAA;\n",
              "      --disabled-bg-color: #DDD;\n",
              "  }\n",
              "\n",
              "  [theme=dark] .colab-df-quickchart {\n",
              "      --bg-color: #3B4455;\n",
              "      --fill-color: #D2E3FC;\n",
              "      --hover-bg-color: #434B5C;\n",
              "      --hover-fill-color: #FFFFFF;\n",
              "      --disabled-bg-color: #3B4455;\n",
              "      --disabled-fill-color: #666;\n",
              "  }\n",
              "\n",
              "  .colab-df-quickchart {\n",
              "    background-color: var(--bg-color);\n",
              "    border: none;\n",
              "    border-radius: 50%;\n",
              "    cursor: pointer;\n",
              "    display: none;\n",
              "    fill: var(--fill-color);\n",
              "    height: 32px;\n",
              "    padding: 0;\n",
              "    width: 32px;\n",
              "  }\n",
              "\n",
              "  .colab-df-quickchart:hover {\n",
              "    background-color: var(--hover-bg-color);\n",
              "    box-shadow: 0 1px 2px rgba(60, 64, 67, 0.3), 0 1px 3px 1px rgba(60, 64, 67, 0.15);\n",
              "    fill: var(--button-hover-fill-color);\n",
              "  }\n",
              "\n",
              "  .colab-df-quickchart-complete:disabled,\n",
              "  .colab-df-quickchart-complete:disabled:hover {\n",
              "    background-color: var(--disabled-bg-color);\n",
              "    fill: var(--disabled-fill-color);\n",
              "    box-shadow: none;\n",
              "  }\n",
              "\n",
              "  .colab-df-spinner {\n",
              "    border: 2px solid var(--fill-color);\n",
              "    border-color: transparent;\n",
              "    border-bottom-color: var(--fill-color);\n",
              "    animation:\n",
              "      spin 1s steps(1) infinite;\n",
              "  }\n",
              "\n",
              "  @keyframes spin {\n",
              "    0% {\n",
              "      border-color: transparent;\n",
              "      border-bottom-color: var(--fill-color);\n",
              "      border-left-color: var(--fill-color);\n",
              "    }\n",
              "    20% {\n",
              "      border-color: transparent;\n",
              "      border-left-color: var(--fill-color);\n",
              "      border-top-color: var(--fill-color);\n",
              "    }\n",
              "    30% {\n",
              "      border-color: transparent;\n",
              "      border-left-color: var(--fill-color);\n",
              "      border-top-color: var(--fill-color);\n",
              "      border-right-color: var(--fill-color);\n",
              "    }\n",
              "    40% {\n",
              "      border-color: transparent;\n",
              "      border-right-color: var(--fill-color);\n",
              "      border-top-color: var(--fill-color);\n",
              "    }\n",
              "    60% {\n",
              "      border-color: transparent;\n",
              "      border-right-color: var(--fill-color);\n",
              "    }\n",
              "    80% {\n",
              "      border-color: transparent;\n",
              "      border-right-color: var(--fill-color);\n",
              "      border-bottom-color: var(--fill-color);\n",
              "    }\n",
              "    90% {\n",
              "      border-color: transparent;\n",
              "      border-bottom-color: var(--fill-color);\n",
              "    }\n",
              "  }\n",
              "</style>\n",
              "\n",
              "  <script>\n",
              "    async function quickchart(key) {\n",
              "      const quickchartButtonEl =\n",
              "        document.querySelector('#' + key + ' button');\n",
              "      quickchartButtonEl.disabled = true;  // To prevent multiple clicks.\n",
              "      quickchartButtonEl.classList.add('colab-df-spinner');\n",
              "      try {\n",
              "        const charts = await google.colab.kernel.invokeFunction(\n",
              "            'suggestCharts', [key], {});\n",
              "      } catch (error) {\n",
              "        console.error('Error during call to suggestCharts:', error);\n",
              "      }\n",
              "      quickchartButtonEl.classList.remove('colab-df-spinner');\n",
              "      quickchartButtonEl.classList.add('colab-df-quickchart-complete');\n",
              "    }\n",
              "    (() => {\n",
              "      let quickchartButtonEl =\n",
              "        document.querySelector('#df-5e138662-1735-4089-b27a-e69d8dab1ced button');\n",
              "      quickchartButtonEl.style.display =\n",
              "        google.colab.kernel.accessAllowed ? 'block' : 'none';\n",
              "    })();\n",
              "  </script>\n",
              "</div>\n",
              "    </div>\n",
              "  </div>\n"
            ]
          },
          "metadata": {},
          "execution_count": 79
        }
      ]
    },
    {
      "cell_type": "code",
      "source": [],
      "metadata": {
        "id": "WtG4F5ltV5Vp"
      },
      "execution_count": null,
      "outputs": []
    }
  ]
}