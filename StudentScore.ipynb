{
  "nbformat": 4,
  "nbformat_minor": 0,
  "metadata": {
    "colab": {
      "name": "StudentScore.ipynb",
      "provenance": [],
      "authorship_tag": "ABX9TyMAmqmE8znUUsT/pOYgDIEd",
      "include_colab_link": true
    },
    "kernelspec": {
      "name": "python3",
      "display_name": "Python 3"
    },
    "language_info": {
      "name": "python"
    }
  },
  "cells": [
    {
      "cell_type": "markdown",
      "metadata": {
        "id": "view-in-github",
        "colab_type": "text"
      },
      "source": [
        "<a href=\"https://colab.research.google.com/github/bayuardip/Hello-World/blob/master/StudentScore.ipynb\" target=\"_parent\"><img src=\"https://colab.research.google.com/assets/colab-badge.svg\" alt=\"Open In Colab\"/></a>"
      ]
    },
    {
      "cell_type": "markdown",
      "metadata": {
        "id": "BmDP6vm_7e7v"
      },
      "source": [
        "Predict student score based on hour of study "
      ]
    },
    {
      "cell_type": "code",
      "metadata": {
        "id": "uUpTo1fs7auf"
      },
      "source": [
        "import pandas as pd \n",
        "import matplotlib.pyplot as plt\n",
        "import seaborn as sns \n",
        "from sklearn.model_selection import train_test_split\n",
        "from sklearn.linear_model import  LinearRegression\n",
        "from sklearn.ensemble import RandomForestRegressor\n",
        "from sklearn.ensemble import GradientBoostingRegressor\n",
        "from sklearn.metrics import mean_absolute_error\n",
        "from sklearn.metrics import mean_squared_error\n",
        "from sklearn.metrics import r2_score"
      ],
      "execution_count": 761,
      "outputs": []
    },
    {
      "cell_type": "code",
      "metadata": {
        "id": "jyO1pBY48Ksn"
      },
      "source": [
        "df = pd.read_csv(\"/content/student_scores.csv\")"
      ],
      "execution_count": 762,
      "outputs": []
    },
    {
      "cell_type": "code",
      "metadata": {
        "colab": {
          "base_uri": "https://localhost:8080/",
          "height": 204
        },
        "id": "d55z2Kxj8R4h",
        "outputId": "e1a2560d-64cb-4e3a-ef96-224d8a315359"
      },
      "source": [
        "df.head()"
      ],
      "execution_count": 763,
      "outputs": [
        {
          "output_type": "execute_result",
          "data": {
            "text/html": [
              "<div>\n",
              "<style scoped>\n",
              "    .dataframe tbody tr th:only-of-type {\n",
              "        vertical-align: middle;\n",
              "    }\n",
              "\n",
              "    .dataframe tbody tr th {\n",
              "        vertical-align: top;\n",
              "    }\n",
              "\n",
              "    .dataframe thead th {\n",
              "        text-align: right;\n",
              "    }\n",
              "</style>\n",
              "<table border=\"1\" class=\"dataframe\">\n",
              "  <thead>\n",
              "    <tr style=\"text-align: right;\">\n",
              "      <th></th>\n",
              "      <th>Hours</th>\n",
              "      <th>Scores</th>\n",
              "    </tr>\n",
              "  </thead>\n",
              "  <tbody>\n",
              "    <tr>\n",
              "      <th>0</th>\n",
              "      <td>2.5</td>\n",
              "      <td>21</td>\n",
              "    </tr>\n",
              "    <tr>\n",
              "      <th>1</th>\n",
              "      <td>5.1</td>\n",
              "      <td>47</td>\n",
              "    </tr>\n",
              "    <tr>\n",
              "      <th>2</th>\n",
              "      <td>3.2</td>\n",
              "      <td>27</td>\n",
              "    </tr>\n",
              "    <tr>\n",
              "      <th>3</th>\n",
              "      <td>8.5</td>\n",
              "      <td>75</td>\n",
              "    </tr>\n",
              "    <tr>\n",
              "      <th>4</th>\n",
              "      <td>3.5</td>\n",
              "      <td>30</td>\n",
              "    </tr>\n",
              "  </tbody>\n",
              "</table>\n",
              "</div>"
            ],
            "text/plain": [
              "   Hours  Scores\n",
              "0    2.5      21\n",
              "1    5.1      47\n",
              "2    3.2      27\n",
              "3    8.5      75\n",
              "4    3.5      30"
            ]
          },
          "metadata": {},
          "execution_count": 763
        }
      ]
    },
    {
      "cell_type": "code",
      "metadata": {
        "colab": {
          "base_uri": "https://localhost:8080/",
          "height": 204
        },
        "id": "zKFIpI6y8gZj",
        "outputId": "239f892e-36ca-4b47-a162-411e0a4d909a"
      },
      "source": [
        "df.tail()"
      ],
      "execution_count": 764,
      "outputs": [
        {
          "output_type": "execute_result",
          "data": {
            "text/html": [
              "<div>\n",
              "<style scoped>\n",
              "    .dataframe tbody tr th:only-of-type {\n",
              "        vertical-align: middle;\n",
              "    }\n",
              "\n",
              "    .dataframe tbody tr th {\n",
              "        vertical-align: top;\n",
              "    }\n",
              "\n",
              "    .dataframe thead th {\n",
              "        text-align: right;\n",
              "    }\n",
              "</style>\n",
              "<table border=\"1\" class=\"dataframe\">\n",
              "  <thead>\n",
              "    <tr style=\"text-align: right;\">\n",
              "      <th></th>\n",
              "      <th>Hours</th>\n",
              "      <th>Scores</th>\n",
              "    </tr>\n",
              "  </thead>\n",
              "  <tbody>\n",
              "    <tr>\n",
              "      <th>20</th>\n",
              "      <td>2.7</td>\n",
              "      <td>30</td>\n",
              "    </tr>\n",
              "    <tr>\n",
              "      <th>21</th>\n",
              "      <td>4.8</td>\n",
              "      <td>54</td>\n",
              "    </tr>\n",
              "    <tr>\n",
              "      <th>22</th>\n",
              "      <td>3.8</td>\n",
              "      <td>35</td>\n",
              "    </tr>\n",
              "    <tr>\n",
              "      <th>23</th>\n",
              "      <td>6.9</td>\n",
              "      <td>76</td>\n",
              "    </tr>\n",
              "    <tr>\n",
              "      <th>24</th>\n",
              "      <td>7.8</td>\n",
              "      <td>86</td>\n",
              "    </tr>\n",
              "  </tbody>\n",
              "</table>\n",
              "</div>"
            ],
            "text/plain": [
              "    Hours  Scores\n",
              "20    2.7      30\n",
              "21    4.8      54\n",
              "22    3.8      35\n",
              "23    6.9      76\n",
              "24    7.8      86"
            ]
          },
          "metadata": {},
          "execution_count": 764
        }
      ]
    },
    {
      "cell_type": "code",
      "metadata": {
        "colab": {
          "base_uri": "https://localhost:8080/"
        },
        "id": "E7wg7u6U8TUo",
        "outputId": "84d22d32-b1e0-4ffd-c32f-023d90c5ff65"
      },
      "source": [
        "df.shape"
      ],
      "execution_count": 765,
      "outputs": [
        {
          "output_type": "execute_result",
          "data": {
            "text/plain": [
              "(25, 2)"
            ]
          },
          "metadata": {},
          "execution_count": 765
        }
      ]
    },
    {
      "cell_type": "code",
      "metadata": {
        "colab": {
          "base_uri": "https://localhost:8080/"
        },
        "id": "VUy4oqpg8UkU",
        "outputId": "787d8248-dd06-4455-e0b6-5b2950ddb6e6"
      },
      "source": [
        "df.info"
      ],
      "execution_count": 766,
      "outputs": [
        {
          "output_type": "execute_result",
          "data": {
            "text/plain": [
              "<bound method DataFrame.info of     Hours  Scores\n",
              "0     2.5      21\n",
              "1     5.1      47\n",
              "2     3.2      27\n",
              "3     8.5      75\n",
              "4     3.5      30\n",
              "5     1.5      20\n",
              "6     9.2      88\n",
              "7     5.5      60\n",
              "8     8.3      81\n",
              "9     2.7      25\n",
              "10    7.7      85\n",
              "11    5.9      62\n",
              "12    4.5      41\n",
              "13    3.3      42\n",
              "14    1.1      17\n",
              "15    8.9      95\n",
              "16    2.5      30\n",
              "17    1.9      24\n",
              "18    6.1      67\n",
              "19    7.4      69\n",
              "20    2.7      30\n",
              "21    4.8      54\n",
              "22    3.8      35\n",
              "23    6.9      76\n",
              "24    7.8      86>"
            ]
          },
          "metadata": {},
          "execution_count": 766
        }
      ]
    },
    {
      "cell_type": "code",
      "metadata": {
        "colab": {
          "base_uri": "https://localhost:8080/"
        },
        "id": "K1XkDUuc8Vdd",
        "outputId": "5d2b1f8e-4b7f-46ac-c075-c90f074263e6"
      },
      "source": [
        "df.dtypes"
      ],
      "execution_count": 767,
      "outputs": [
        {
          "output_type": "execute_result",
          "data": {
            "text/plain": [
              "Hours     float64\n",
              "Scores      int64\n",
              "dtype: object"
            ]
          },
          "metadata": {},
          "execution_count": 767
        }
      ]
    },
    {
      "cell_type": "code",
      "metadata": {
        "colab": {
          "base_uri": "https://localhost:8080/",
          "height": 297
        },
        "id": "40DWHiyC8bvO",
        "outputId": "39776f65-fe2b-4ee3-b074-f3ff77e4b7ec"
      },
      "source": [
        "df.describe()"
      ],
      "execution_count": 768,
      "outputs": [
        {
          "output_type": "execute_result",
          "data": {
            "text/html": [
              "<div>\n",
              "<style scoped>\n",
              "    .dataframe tbody tr th:only-of-type {\n",
              "        vertical-align: middle;\n",
              "    }\n",
              "\n",
              "    .dataframe tbody tr th {\n",
              "        vertical-align: top;\n",
              "    }\n",
              "\n",
              "    .dataframe thead th {\n",
              "        text-align: right;\n",
              "    }\n",
              "</style>\n",
              "<table border=\"1\" class=\"dataframe\">\n",
              "  <thead>\n",
              "    <tr style=\"text-align: right;\">\n",
              "      <th></th>\n",
              "      <th>Hours</th>\n",
              "      <th>Scores</th>\n",
              "    </tr>\n",
              "  </thead>\n",
              "  <tbody>\n",
              "    <tr>\n",
              "      <th>count</th>\n",
              "      <td>25.000000</td>\n",
              "      <td>25.000000</td>\n",
              "    </tr>\n",
              "    <tr>\n",
              "      <th>mean</th>\n",
              "      <td>5.012000</td>\n",
              "      <td>51.480000</td>\n",
              "    </tr>\n",
              "    <tr>\n",
              "      <th>std</th>\n",
              "      <td>2.525094</td>\n",
              "      <td>25.286887</td>\n",
              "    </tr>\n",
              "    <tr>\n",
              "      <th>min</th>\n",
              "      <td>1.100000</td>\n",
              "      <td>17.000000</td>\n",
              "    </tr>\n",
              "    <tr>\n",
              "      <th>25%</th>\n",
              "      <td>2.700000</td>\n",
              "      <td>30.000000</td>\n",
              "    </tr>\n",
              "    <tr>\n",
              "      <th>50%</th>\n",
              "      <td>4.800000</td>\n",
              "      <td>47.000000</td>\n",
              "    </tr>\n",
              "    <tr>\n",
              "      <th>75%</th>\n",
              "      <td>7.400000</td>\n",
              "      <td>75.000000</td>\n",
              "    </tr>\n",
              "    <tr>\n",
              "      <th>max</th>\n",
              "      <td>9.200000</td>\n",
              "      <td>95.000000</td>\n",
              "    </tr>\n",
              "  </tbody>\n",
              "</table>\n",
              "</div>"
            ],
            "text/plain": [
              "           Hours     Scores\n",
              "count  25.000000  25.000000\n",
              "mean    5.012000  51.480000\n",
              "std     2.525094  25.286887\n",
              "min     1.100000  17.000000\n",
              "25%     2.700000  30.000000\n",
              "50%     4.800000  47.000000\n",
              "75%     7.400000  75.000000\n",
              "max     9.200000  95.000000"
            ]
          },
          "metadata": {},
          "execution_count": 768
        }
      ]
    },
    {
      "cell_type": "code",
      "metadata": {
        "colab": {
          "base_uri": "https://localhost:8080/"
        },
        "id": "ZlosaHdR8jKa",
        "outputId": "46a448c6-5894-4ace-a511-64aeda923f25"
      },
      "source": [
        "df.isna().sum()"
      ],
      "execution_count": 769,
      "outputs": [
        {
          "output_type": "execute_result",
          "data": {
            "text/plain": [
              "Hours     0\n",
              "Scores    0\n",
              "dtype: int64"
            ]
          },
          "metadata": {},
          "execution_count": 769
        }
      ]
    },
    {
      "cell_type": "code",
      "metadata": {
        "id": "i3poE2V78lmK"
      },
      "source": [
        "def comparison (col_name):\n",
        "  fig, axs = plt.subplots(1,2,figsize=(9,3))\n",
        "  sns.histplot(data=df,x=col_name,kde=True,ax=axs[0],color=\"#bc5090\")\n",
        "  sns.boxplot(data=df,x=col_name,ax=axs[1],color=\"#ffa600\")"
      ],
      "execution_count": 770,
      "outputs": []
    },
    {
      "cell_type": "code",
      "metadata": {
        "colab": {
          "base_uri": "https://localhost:8080/",
          "height": 225
        },
        "id": "z33Cq85p8qDR",
        "outputId": "e5a048a2-9164-4a49-e7af-7e481f3090b7"
      },
      "source": [
        "comparison(\"Hours\")"
      ],
      "execution_count": 771,
      "outputs": [
        {
          "output_type": "display_data",
          "data": {
            "image/png": "[encoded data removed]",
            "text/plain": [
              "<Figure size 648x216 with 2 Axes>"
            ]
          },
          "metadata": {
            "needs_background": "light"
          }
        }
      ]
    },
    {
      "cell_type": "code",
      "metadata": {
        "colab": {
          "base_uri": "https://localhost:8080/",
          "height": 225
        },
        "id": "ObWivLKZ9LHr",
        "outputId": "008e8eb0-7001-44c6-f021-2faa93ee9a4e"
      },
      "source": [
        "comparison(\"Scores\")"
      ],
      "execution_count": 772,
      "outputs": [
        {
          "output_type": "display_data",
          "data": {
            "image/png": "[encoded data removed]",
            "text/plain": [
              "<Figure size 648x216 with 2 Axes>"
            ]
          },
          "metadata": {
            "needs_background": "light"
          }
        }
      ]
    },
    {
      "cell_type": "code",
      "metadata": {
        "colab": {
          "base_uri": "https://localhost:8080/",
          "height": 111
        },
        "id": "2KeAXLZV9YS1",
        "outputId": "512e0931-2845-498b-8c0d-7216dbefbb53"
      },
      "source": [
        "df.corr()"
      ],
      "execution_count": 773,
      "outputs": [
        {
          "output_type": "execute_result",
          "data": {
            "text/html": [
              "<div>\n",
              "<style scoped>\n",
              "    .dataframe tbody tr th:only-of-type {\n",
              "        vertical-align: middle;\n",
              "    }\n",
              "\n",
              "    .dataframe tbody tr th {\n",
              "        vertical-align: top;\n",
              "    }\n",
              "\n",
              "    .dataframe thead th {\n",
              "        text-align: right;\n",
              "    }\n",
              "</style>\n",
              "<table border=\"1\" class=\"dataframe\">\n",
              "  <thead>\n",
              "    <tr style=\"text-align: right;\">\n",
              "      <th></th>\n",
              "      <th>Hours</th>\n",
              "      <th>Scores</th>\n",
              "    </tr>\n",
              "  </thead>\n",
              "  <tbody>\n",
              "    <tr>\n",
              "      <th>Hours</th>\n",
              "      <td>1.000000</td>\n",
              "      <td>0.976191</td>\n",
              "    </tr>\n",
              "    <tr>\n",
              "      <th>Scores</th>\n",
              "      <td>0.976191</td>\n",
              "      <td>1.000000</td>\n",
              "    </tr>\n",
              "  </tbody>\n",
              "</table>\n",
              "</div>"
            ],
            "text/plain": [
              "           Hours    Scores\n",
              "Hours   1.000000  0.976191\n",
              "Scores  0.976191  1.000000"
            ]
          },
          "metadata": {},
          "execution_count": 773
        }
      ]
    },
    {
      "cell_type": "code",
      "metadata": {
        "colab": {
          "base_uri": "https://localhost:8080/",
          "height": 297
        },
        "id": "x7CEslhO9eXx",
        "outputId": "a80b6f57-37d1-4af1-c8f6-d211223e6200"
      },
      "source": [
        "sns.scatterplot(data=df,x=\"Hours\",y=\"Scores\",color=\"#003f5c\")"
      ],
      "execution_count": 774,
      "outputs": [
        {
          "output_type": "execute_result",
          "data": {
            "text/plain": [
              "<matplotlib.axes._subplots.AxesSubplot at 0x7efc2e5ed3d0>"
            ]
          },
          "metadata": {},
          "execution_count": 774
        },
        {
          "output_type": "display_data",
          "data": {
            "image/png": "[encoded data removed]",
            "text/plain": [
              "<Figure size 432x288 with 1 Axes>"
            ]
          },
          "metadata": {
            "needs_background": "light"
          }
        }
      ]
    },
    {
      "cell_type": "code",
      "metadata": {
        "id": "JnlRR8Gc9tBS"
      },
      "source": [
        "def get_data(input_data,output_data):\n",
        "  data_to_input = df[input_data].values.reshape(-1,1)\n",
        "  data_to_output = df[output_data].values.reshape(-1,1)\n",
        "  return data_to_input, data_to_output"
      ],
      "execution_count": 775,
      "outputs": []
    },
    {
      "cell_type": "code",
      "metadata": {
        "id": "RHxuerRe-C5B"
      },
      "source": [
        "X, y = get_data(\"Hours\",\"Scores\")"
      ],
      "execution_count": 776,
      "outputs": []
    },
    {
      "cell_type": "code",
      "metadata": {
        "id": "_HNoUMJi-JOO"
      },
      "source": [
        "X_train, X_test, y_train, y_test = train_test_split(X, y, test_size=0.2, random_state = 42)"
      ],
      "execution_count": 777,
      "outputs": []
    },
    {
      "cell_type": "code",
      "metadata": {
        "id": "GFgEV7i6HqtZ"
      },
      "source": [
        "lin_reg = LinearRegression()\n",
        "rand_forest = RandomForestRegressor(random_state=0)\n",
        "grad_boost = GradientBoostingRegressor(random_state=0)"
      ],
      "execution_count": 778,
      "outputs": []
    },
    {
      "cell_type": "code",
      "metadata": {
        "colab": {
          "base_uri": "https://localhost:8080/"
        },
        "id": "r7X-11MBISwi",
        "outputId": "aaafc79e-0393-4939-ee7f-d4a0e31a7f66"
      },
      "source": [
        "lin_reg.fit(X_train,y_train)\n",
        "rand_forest.fit(X_train,y_train)\n",
        "grad_boost.fit(X_train,y_train)"
      ],
      "execution_count": 779,
      "outputs": [
        {
          "output_type": "stream",
          "name": "stderr",
          "text": [
            "/usr/local/lib/python3.7/dist-packages/ipykernel_launcher.py:2: DataConversionWarning: A column-vector y was passed when a 1d array was expected. Please change the shape of y to (n_samples,), for example using ravel().\n",
            "  \n",
            "/usr/local/lib/python3.7/dist-packages/sklearn/ensemble/_gb.py:1454: DataConversionWarning: A column-vector y was passed when a 1d array was expected. Please change the shape of y to (n_samples, ), for example using ravel().\n",
            "  y = column_or_1d(y, warn=True)\n"
          ]
        },
        {
          "output_type": "execute_result",
          "data": {
            "text/plain": [
              "GradientBoostingRegressor(alpha=0.9, ccp_alpha=0.0, criterion='friedman_mse',\n",
              "                          init=None, learning_rate=0.1, loss='ls', max_depth=3,\n",
              "                          max_features=None, max_leaf_nodes=None,\n",
              "                          min_impurity_decrease=0.0, min_impurity_split=None,\n",
              "                          min_samples_leaf=1, min_samples_split=2,\n",
              "                          min_weight_fraction_leaf=0.0, n_estimators=100,\n",
              "                          n_iter_no_change=None, presort='deprecated',\n",
              "                          random_state=0, subsample=1.0, tol=0.0001,\n",
              "                          validation_fraction=0.1, verbose=0, warm_start=False)"
            ]
          },
          "metadata": {},
          "execution_count": 779
        }
      ]
    },
    {
      "cell_type": "code",
      "metadata": {
        "colab": {
          "base_uri": "https://localhost:8080/"
        },
        "id": "15vZMaKrIe2u",
        "outputId": "81166521-ce5c-4318-cf0f-499cbe96b00a"
      },
      "source": [
        "print(\"Linear Regression\")\n",
        "print(lin_reg.score(X_train,y_train))\n",
        "print(lin_reg.score(X_test,y_test))\n",
        "print()\n",
        "print(\"Random Forrest Regression\")\n",
        "print(rand_forest.score(X_train,y_train))\n",
        "print(rand_forest.score(X_test,y_test))\n",
        "print()\n",
        "print(\"Gradient Booster Regression\")\n",
        "print(grad_boost.score(X_train,y_train))\n",
        "print(grad_boost.score(X_test,y_test))"
      ],
      "execution_count": 780,
      "outputs": [
        {
          "output_type": "stream",
          "name": "stdout",
          "text": [
            "Linear Regression\n",
            "0.9491209376364417\n",
            "0.9678055545167994\n",
            "\n",
            "Random Forrest Regression\n",
            "0.9828923361321052\n",
            "0.9800058081237254\n",
            "\n",
            "Gradient Booster Regression\n",
            "0.9989719428885956\n",
            "0.946452682557495\n"
          ]
        }
      ]
    },
    {
      "cell_type": "code",
      "metadata": {
        "id": "v-wWL_SMIi-j"
      },
      "source": [
        "df[\"Linear Regression\"] =  lin_reg.predict(df[\"Hours\"].values.reshape(-1,1))\n",
        "df[\"Random Forrest\"] = rand_forest.predict(df[\"Hours\"].values.reshape(-1,1))\n",
        "df[\"Gradient Booster\"] = grad_boost.predict(df[\"Hours\"].values.reshape(-1,1))"
      ],
      "execution_count": 781,
      "outputs": []
    },
    {
      "cell_type": "code",
      "metadata": {
        "colab": {
          "base_uri": "https://localhost:8080/",
          "height": 359
        },
        "id": "6WJPheeLLozW",
        "outputId": "02193b4b-3088-4e17-8db0-a4aea79ebe9e"
      },
      "source": [
        "df.head(10)"
      ],
      "execution_count": 782,
      "outputs": [
        {
          "output_type": "execute_result",
          "data": {
            "text/html": [
              "<div>\n",
              "<style scoped>\n",
              "    .dataframe tbody tr th:only-of-type {\n",
              "        vertical-align: middle;\n",
              "    }\n",
              "\n",
              "    .dataframe tbody tr th {\n",
              "        vertical-align: top;\n",
              "    }\n",
              "\n",
              "    .dataframe thead th {\n",
              "        text-align: right;\n",
              "    }\n",
              "</style>\n",
              "<table border=\"1\" class=\"dataframe\">\n",
              "  <thead>\n",
              "    <tr style=\"text-align: right;\">\n",
              "      <th></th>\n",
              "      <th>Hours</th>\n",
              "      <th>Scores</th>\n",
              "      <th>Linear Regression</th>\n",
              "      <th>Random Forrest</th>\n",
              "      <th>Gradient Booster</th>\n",
              "    </tr>\n",
              "  </thead>\n",
              "  <tbody>\n",
              "    <tr>\n",
              "      <th>0</th>\n",
              "      <td>2.5</td>\n",
              "      <td>21</td>\n",
              "      <td>27.032088</td>\n",
              "      <td>26.942500</td>\n",
              "      <td>27.421442</td>\n",
              "    </tr>\n",
              "    <tr>\n",
              "      <th>1</th>\n",
              "      <td>5.1</td>\n",
              "      <td>47</td>\n",
              "      <td>52.205491</td>\n",
              "      <td>49.810000</td>\n",
              "      <td>47.195539</td>\n",
              "    </tr>\n",
              "    <tr>\n",
              "      <th>2</th>\n",
              "      <td>3.2</td>\n",
              "      <td>27</td>\n",
              "      <td>33.809542</td>\n",
              "      <td>30.731667</td>\n",
              "      <td>27.128029</td>\n",
              "    </tr>\n",
              "    <tr>\n",
              "      <th>3</th>\n",
              "      <td>8.5</td>\n",
              "      <td>75</td>\n",
              "      <td>85.124557</td>\n",
              "      <td>81.690000</td>\n",
              "      <td>75.072994</td>\n",
              "    </tr>\n",
              "    <tr>\n",
              "      <th>4</th>\n",
              "      <td>3.5</td>\n",
              "      <td>30</td>\n",
              "      <td>36.714166</td>\n",
              "      <td>33.075000</td>\n",
              "      <td>30.200574</td>\n",
              "    </tr>\n",
              "    <tr>\n",
              "      <th>5</th>\n",
              "      <td>1.5</td>\n",
              "      <td>20</td>\n",
              "      <td>17.350010</td>\n",
              "      <td>19.683333</td>\n",
              "      <td>20.024477</td>\n",
              "    </tr>\n",
              "    <tr>\n",
              "      <th>6</th>\n",
              "      <td>9.2</td>\n",
              "      <td>88</td>\n",
              "      <td>91.902011</td>\n",
              "      <td>88.560000</td>\n",
              "      <td>88.054960</td>\n",
              "    </tr>\n",
              "    <tr>\n",
              "      <th>7</th>\n",
              "      <td>5.5</td>\n",
              "      <td>60</td>\n",
              "      <td>56.078322</td>\n",
              "      <td>57.340000</td>\n",
              "      <td>59.947466</td>\n",
              "    </tr>\n",
              "    <tr>\n",
              "      <th>8</th>\n",
              "      <td>8.3</td>\n",
              "      <td>81</td>\n",
              "      <td>83.188141</td>\n",
              "      <td>80.250000</td>\n",
              "      <td>75.072994</td>\n",
              "    </tr>\n",
              "    <tr>\n",
              "      <th>9</th>\n",
              "      <td>2.7</td>\n",
              "      <td>25</td>\n",
              "      <td>28.968503</td>\n",
              "      <td>27.932500</td>\n",
              "      <td>27.421442</td>\n",
              "    </tr>\n",
              "  </tbody>\n",
              "</table>\n",
              "</div>"
            ],
            "text/plain": [
              "   Hours  Scores  Linear Regression  Random Forrest  Gradient Booster\n",
              "0    2.5      21          27.032088       26.942500         27.421442\n",
              "1    5.1      47          52.205491       49.810000         47.195539\n",
              "2    3.2      27          33.809542       30.731667         27.128029\n",
              "3    8.5      75          85.124557       81.690000         75.072994\n",
              "4    3.5      30          36.714166       33.075000         30.200574\n",
              "5    1.5      20          17.350010       19.683333         20.024477\n",
              "6    9.2      88          91.902011       88.560000         88.054960\n",
              "7    5.5      60          56.078322       57.340000         59.947466\n",
              "8    8.3      81          83.188141       80.250000         75.072994\n",
              "9    2.7      25          28.968503       27.932500         27.421442"
            ]
          },
          "metadata": {},
          "execution_count": 782
        }
      ]
    },
    {
      "cell_type": "code",
      "metadata": {
        "colab": {
          "base_uri": "https://localhost:8080/",
          "height": 258
        },
        "id": "oBI1_HrJW5G5",
        "outputId": "fb64fc74-b1bb-4ea1-a743-0a4731c4ffd4"
      },
      "source": [
        "fig,axs = plt.subplots(1,3,figsize=(15,3))\n",
        "sns.regplot(data=df,x=\"Scores\",y=\"Linear Regression\",ax=axs[0],color=\"#003f5c\").set_title(\"Linear Regression Pred.\")\n",
        "sns.regplot(data=df,x=\"Scores\",y=\"Random Forrest\",ax=axs[1],color=\"#bc5090\").set_title(\"Random Forrest Pred.\")\n",
        "sns.regplot(data=df,x=\"Scores\",y=\"Gradient Booster\",ax=axs[2],color=\"#ffa600\").set_title(\" Gradient Booster Pred.\")"
      ],
      "execution_count": 783,
      "outputs": [
        {
          "output_type": "execute_result",
          "data": {
            "text/plain": [
              "Text(0.5, 1.0, ' Gradient Booster Pred.')"
            ]
          },
          "metadata": {},
          "execution_count": 783
        },
        {
          "output_type": "display_data",
          "data": {
            "image/png": "[encoded data removed]",
            "text/plain": [
              "<Figure size 1080x216 with 3 Axes>"
            ]
          },
          "metadata": {
            "needs_background": "light"
          }
        }
      ]
    },
    {
      "cell_type": "code",
      "metadata": {
        "id": "K3K40iNvW_c9"
      },
      "source": [
        "#Mean Absolute Error (MAE Evaluation)\n",
        "lin_reg_mae = mean_absolute_error(df[\"Scores\"],df[\"Linear Regression\"])\n",
        "rand_forest_mae = mean_absolute_error(df[\"Scores\"],df[\"Random Forrest\"])\n",
        "grad_boost_mae = mean_absolute_error(df[\"Scores\"],df[\"Gradient Booster\"])"
      ],
      "execution_count": 784,
      "outputs": []
    },
    {
      "cell_type": "code",
      "metadata": {
        "colab": {
          "base_uri": "https://localhost:8080/",
          "height": 283
        },
        "id": "SsM-54iuX5rg",
        "outputId": "05ad9d15-93f9-4618-ef86-9cfc77dc9881"
      },
      "source": [
        "sns.barplot(x=[\"Linear Regression\",\"Random Forrest\",\"Gradient Booster\"],y=[lin_reg_mae,rand_forest_mae,grad_boost_mae])"
      ],
      "execution_count": 785,
      "outputs": [
        {
          "output_type": "execute_result",
          "data": {
            "text/plain": [
              "<matplotlib.axes._subplots.AxesSubplot at 0x7efc2e47f250>"
            ]
          },
          "metadata": {},
          "execution_count": 785
        },
        {
          "output_type": "display_data",
          "data": {
            "image/png": "[encoded data removed]",
            "text/plain": [
              "<Figure size 432x288 with 1 Axes>"
            ]
          },
          "metadata": {
            "needs_background": "light"
          }
        }
      ]
    },
    {
      "cell_type": "code",
      "metadata": {
        "id": "J0BKBxwjYr80"
      },
      "source": [
        "#Root Mean Square Error (RMSE Evaluation)\n",
        "lin_reg_rmse = mean_squared_error(df[\"Scores\"],df[\"Linear Regression\"],squared=False)\n",
        "rand_forest_rmse = mean_squared_error(df[\"Scores\"],df[\"Random Forrest\"],squared=False)\n",
        "grad_boost_rmse = mean_squared_error(df[\"Scores\"],df[\"Gradient Booster\"],squared=False)"
      ],
      "execution_count": 786,
      "outputs": []
    },
    {
      "cell_type": "code",
      "metadata": {
        "colab": {
          "base_uri": "https://localhost:8080/",
          "height": 283
        },
        "id": "HwHJ6SM2Z7Td",
        "outputId": "a100d778-8ff1-424d-bf32-5bc5debc794c"
      },
      "source": [
        "sns.barplot(x=[\"Linear Regression\",\"Random Forrest\",\"Gradient Booster\"],y=[lin_reg_rmse,rand_forest_rmse,grad_boost_rmse])"
      ],
      "execution_count": 787,
      "outputs": [
        {
          "output_type": "execute_result",
          "data": {
            "text/plain": [
              "<matplotlib.axes._subplots.AxesSubplot at 0x7efc2e402e90>"
            ]
          },
          "metadata": {},
          "execution_count": 787
        },
        {
          "output_type": "display_data",
          "data": {
            "image/png": "[encoded data removed]",
            "text/plain": [
              "<Figure size 432x288 with 1 Axes>"
            ]
          },
          "metadata": {
            "needs_background": "light"
          }
        }
      ]
    },
    {
      "cell_type": "code",
      "metadata": {
        "id": "14u3z1rmaLNm"
      },
      "source": [
        "lin_reg_r2 = r2_score(df[\"Scores\"],df[\"Linear Regression\"])\n",
        "rand_forest_r2 = r2_score(df[\"Scores\"],df[\"Random Forrest\"])\n",
        "grad_boost_r2 = r2_score(df[\"Scores\"],df[\"Gradient Booster\"])"
      ],
      "execution_count": 788,
      "outputs": []
    },
    {
      "cell_type": "code",
      "metadata": {
        "colab": {
          "base_uri": "https://localhost:8080/",
          "height": 283
        },
        "id": "MeWhADofa3RQ",
        "outputId": "64b9ddfc-7e46-4ea8-a4ae-ad2b9f5b9f7f"
      },
      "source": [
        "sns.barplot(x=[\"Linear Regression\",\"Random Forrest\",\"Gradient Booster\"],y=[lin_reg_r2,rand_forest_r2,grad_boost_r2])"
      ],
      "execution_count": 789,
      "outputs": [
        {
          "output_type": "execute_result",
          "data": {
            "text/plain": [
              "<matplotlib.axes._subplots.AxesSubplot at 0x7efc2e389310>"
            ]
          },
          "metadata": {},
          "execution_count": 789
        },
        {
          "output_type": "display_data",
          "data": {
            "image/png": "[encoded data removed]",
            "text/plain": [
              "<Figure size 432x288 with 1 Axes>"
            ]
          },
          "metadata": {
            "needs_background": "light"
          }
        }
      ]
    },
    {
      "cell_type": "code",
      "metadata": {
        "id": "8U64sgRzbUcH"
      },
      "source": [
        ""
      ],
      "execution_count": 789,
      "outputs": []
    },
    {
      "cell_type": "markdown",
      "metadata": {
        "id": "G8cqABvibbRq"
      },
      "source": [
        "### **Conclusion**\n",
        "In this model prediction we are trying 3 types of Algorithm : \n",
        "\n",
        "\n",
        "1.   Linear Regression\n",
        "2.   Random Forrest  \n",
        "3.   Gradient  Booster   \n",
        "\n",
        "From the evalution result, model with Gradient Booster algorithm is the best predection model with\n",
        "prediction score = 94 percent, the lowest MAE score, the lowest RMSE score, and the highest r^2 score\n",
        "\n",
        "\n",
        "\n"
      ]
    },
    {
      "cell_type": "markdown",
      "metadata": {
        "id": "LOotO0EndQty"
      },
      "source": [
        "Case  \n",
        "Andy studying time is 7.5 hours. What score Andy will get ? \n",
        "<br>\n",
        "James studying time is 12 hours. What score James will get ? \n"
      ]
    },
    {
      "cell_type": "code",
      "metadata": {
        "colab": {
          "base_uri": "https://localhost:8080/"
        },
        "id": "zln2T_SAdYzG",
        "outputId": "663ddbcf-b134-4693-e891-f2d38f79df33"
      },
      "source": [
        "print(\"Andy's score prediction : \",int(grad_boost.predict([[7.5]])))\n",
        "print(\"Jame's score prediction : \",int(grad_boost.predict([[12]])))"
      ],
      "execution_count": 791,
      "outputs": [
        {
          "output_type": "stream",
          "name": "stdout",
          "text": [
            "Andy's score prediction :  68\n",
            "Jame's score prediction :  88\n"
          ]
        }
      ]
    }
  ]
}