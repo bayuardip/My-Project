{
 "cells": [
  {
   "cell_type": "code",
   "execution_count": 6,
   "id": "42d9a2c8-8699-4ac2-8378-ed7424ea20f2",
   "metadata": {},
   "outputs": [
    {
     "name": "stdout",
     "output_type": "stream",
     "text": [
      "('Chief', 'Vice of Chief', 'Secretary')\n",
      "('Chief', 'Secretary', 'Vice of Chief')\n",
      "('Vice of Chief', 'Chief', 'Secretary')\n",
      "('Vice of Chief', 'Secretary', 'Chief')\n",
      "('Secretary', 'Chief', 'Vice of Chief')\n",
      "('Secretary', 'Vice of Chief', 'Chief')\n"
     ]
    }
   ],
   "source": [
    "import itertools\n",
    "\n",
    "data = [\"Chief\",\"Vice of Chief\",\"Secretary\"]\n",
    "\n",
    "permutation  = itertools.permutations(data)\n",
    "\n",
    "for data in permutation : \n",
    "    print(data)"
   ]
  },
  {
   "cell_type": "code",
   "execution_count": 14,
   "id": "8af81378-5044-4f70-9ef7-b3b4c72210f4",
   "metadata": {},
   "outputs": [
    {
     "name": "stdout",
     "output_type": "stream",
     "text": [
      "('Jake', 'Susan', 'Sam')\n",
      "('Jake', 'Susan', 'Ruben')\n",
      "('Jake', 'Susan', 'Diaz')\n",
      "('Jake', 'Sam', 'Susan')\n",
      "('Jake', 'Sam', 'Ruben')\n",
      "('Jake', 'Sam', 'Diaz')\n",
      "('Jake', 'Ruben', 'Susan')\n",
      "('Jake', 'Ruben', 'Sam')\n",
      "('Jake', 'Ruben', 'Diaz')\n",
      "('Jake', 'Diaz', 'Susan')\n",
      "('Jake', 'Diaz', 'Sam')\n",
      "('Jake', 'Diaz', 'Ruben')\n",
      "('Susan', 'Jake', 'Sam')\n",
      "('Susan', 'Jake', 'Ruben')\n",
      "('Susan', 'Jake', 'Diaz')\n",
      "('Susan', 'Sam', 'Jake')\n",
      "('Susan', 'Sam', 'Ruben')\n",
      "('Susan', 'Sam', 'Diaz')\n",
      "('Susan', 'Ruben', 'Jake')\n",
      "('Susan', 'Ruben', 'Sam')\n",
      "('Susan', 'Ruben', 'Diaz')\n",
      "('Susan', 'Diaz', 'Jake')\n",
      "('Susan', 'Diaz', 'Sam')\n",
      "('Susan', 'Diaz', 'Ruben')\n",
      "('Sam', 'Jake', 'Susan')\n",
      "('Sam', 'Jake', 'Ruben')\n",
      "('Sam', 'Jake', 'Diaz')\n",
      "('Sam', 'Susan', 'Jake')\n",
      "('Sam', 'Susan', 'Ruben')\n",
      "('Sam', 'Susan', 'Diaz')\n",
      "('Sam', 'Ruben', 'Jake')\n",
      "('Sam', 'Ruben', 'Susan')\n",
      "('Sam', 'Ruben', 'Diaz')\n",
      "('Sam', 'Diaz', 'Jake')\n",
      "('Sam', 'Diaz', 'Susan')\n",
      "('Sam', 'Diaz', 'Ruben')\n",
      "('Ruben', 'Jake', 'Susan')\n",
      "('Ruben', 'Jake', 'Sam')\n",
      "('Ruben', 'Jake', 'Diaz')\n",
      "('Ruben', 'Susan', 'Jake')\n",
      "('Ruben', 'Susan', 'Sam')\n",
      "('Ruben', 'Susan', 'Diaz')\n",
      "('Ruben', 'Sam', 'Jake')\n",
      "('Ruben', 'Sam', 'Susan')\n",
      "('Ruben', 'Sam', 'Diaz')\n",
      "('Ruben', 'Diaz', 'Jake')\n",
      "('Ruben', 'Diaz', 'Susan')\n",
      "('Ruben', 'Diaz', 'Sam')\n",
      "('Diaz', 'Jake', 'Susan')\n",
      "('Diaz', 'Jake', 'Sam')\n",
      "('Diaz', 'Jake', 'Ruben')\n",
      "('Diaz', 'Susan', 'Jake')\n",
      "('Diaz', 'Susan', 'Sam')\n",
      "('Diaz', 'Susan', 'Ruben')\n",
      "('Diaz', 'Sam', 'Jake')\n",
      "('Diaz', 'Sam', 'Susan')\n",
      "('Diaz', 'Sam', 'Ruben')\n",
      "('Diaz', 'Ruben', 'Jake')\n",
      "('Diaz', 'Ruben', 'Susan')\n",
      "('Diaz', 'Ruben', 'Sam')\n"
     ]
    }
   ],
   "source": [
    "#Pick 3 for the 1st, 2nd, 3rd place winner \n",
    "\n",
    "data = [\"Jake\",\"Susan\",\"Sam\",\"Ruben\",\"Diaz\"]\n",
    "\n",
    "permutation = itertools.permutations(data,3)\n",
    "\n",
    "for data in permutation : \n",
    "    print(data)"
   ]
  },
  {
   "cell_type": "code",
   "execution_count": 20,
   "id": "4138d189-0722-4b16-b306-96c66a5a3a90",
   "metadata": {},
   "outputs": [
    {
     "data": {
      "text/plain": [
       "60"
      ]
     },
     "execution_count": 20,
     "metadata": {},
     "output_type": "execute_result"
    }
   ],
   "source": [
    "permutation_value = itertools.permutations(range(5),3)\n",
    "len(tuple(permutation_value))"
   ]
  },
  {
   "cell_type": "code",
   "execution_count": 31,
   "id": "c6b873cf-cc78-49c7-828a-ceb097b79fec",
   "metadata": {},
   "outputs": [
    {
     "name": "stdout",
     "output_type": "stream",
     "text": [
      "('company_1', 'company_2')\n",
      "('company_1', 'company_3')\n",
      "('company_1', 'company_4')\n",
      "('company_1', 'company_5')\n",
      "('company_2', 'company_3')\n",
      "('company_2', 'company_4')\n",
      "('company_2', 'company_5')\n",
      "('company_3', 'company_4')\n",
      "('company_3', 'company_5')\n",
      "('company_4', 'company_5')\n"
     ]
    }
   ],
   "source": [
    "#Pick 2 company randomly\n",
    "companies = [\"company_1\",\"company_2\",\"company_3\",\"company_4\",\"company_5\"]\n",
    "\n",
    "combination = itertools.combinations(companies,2)\n",
    "\n",
    "for data in combination: \n",
    "    print(data)"
   ]
  },
  {
   "cell_type": "code",
   "execution_count": 34,
   "id": "a8c32e58-3e55-4853-9b24-7ac12a5dd399",
   "metadata": {},
   "outputs": [
    {
     "data": {
      "text/plain": [
       "10"
      ]
     },
     "execution_count": 34,
     "metadata": {},
     "output_type": "execute_result"
    }
   ],
   "source": [
    "combination_value = itertools.combinations(range(5),2)\n",
    "\n",
    "len(tuple(combination_value))"
   ]
  }
 ],
 "metadata": {
  "kernelspec": {
   "display_name": "Python 3",
   "language": "python",
   "name": "python3"
  },
  "language_info": {
   "codemirror_mode": {
    "name": "ipython",
    "version": 3
   },
   "file_extension": ".py",
   "mimetype": "text/x-python",
   "name": "python",
   "nbconvert_exporter": "python",
   "pygments_lexer": "ipython3",
   "version": "3.8.8"
  }
 },
 "nbformat": 4,
 "nbformat_minor": 5
}
